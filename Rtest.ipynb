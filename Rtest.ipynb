{
  "cells": [
    {
      "cell_type": "markdown",
      "metadata": {
        "id": "view-in-github",
        "colab_type": "text"
      },
      "source": [
        "<a href=\"https://colab.research.google.com/github/antoniogss/statistics_R/blob/main/Rtest.ipynb\" target=\"_parent\"><img src=\"https://colab.research.google.com/assets/colab-badge.svg\" alt=\"Open In Colab\"/></a>"
      ]
    },
    {
      "cell_type": "code",
      "execution_count": null,
      "metadata": {
        "colab": {
          "background_save": true
        },
        "id": "qlNcYbmQppZL"
      },
      "outputs": [],
      "source": [
        "suppressMessages(install.packages(\"nortest\")) # Disable messages upon installing a package\n",
        "suppressPackageStartupMessages(library(nortest)) # Disable messages upon loading a package\n",
        "\n",
        "suppressMessages(install.packages(\"fields\"))\n",
        "suppressPackageStartupMessages(library(fields))\n",
        "\n",
        "suppressMessages(install.packages(\"Amelia\"))\n",
        "suppressPackageStartupMessages(library(Amelia))\n"
      ]
    },
    {
      "cell_type": "code",
      "execution_count": null,
      "metadata": {
        "id": "pswJiEmbbZSF"
      },
      "outputs": [],
      "source": [
        "ap <- available.packages()"
      ]
    },
    {
      "cell_type": "code",
      "execution_count": null,
      "metadata": {
        "colab": {
          "base_uri": "https://localhost:8080/",
          "height": 34
        },
        "id": "onxVF0UhbfJ7",
        "outputId": "1844a873-8485-414b-bc95-e8bc2c946fc1"
      },
      "outputs": [
        {
          "data": {
            "text/html": [
              "FALSE"
            ],
            "text/latex": "FALSE",
            "text/markdown": "FALSE",
            "text/plain": [
              "[1] FALSE"
            ]
          },
          "metadata": {
            "tags": []
          },
          "output_type": "display_data"
        }
      ],
      "source": [
        "\"googlesheet4\" %in% rownames(ap)"
      ]
    },
    {
      "cell_type": "code",
      "execution_count": null,
      "metadata": {
        "id": "KUy8EICEcPgl"
      },
      "outputs": [],
      "source": [
        "suppressMessages(install.packages(\"gsheet\"))\n",
        "suppressPackageStartupMessages(library(gsheet))"
      ]
    },
    {
      "cell_type": "code",
      "execution_count": null,
      "metadata": {
        "id": "3RqDPZCvfx4Z"
      },
      "outputs": [],
      "source": [
        "#suppressMessages(install.packages(\"googlesheets4\")) # Not available for this R version!!!\n",
        "#suppressPackageStartupMessages(library(googlesheets4))"
      ]
    },
    {
      "cell_type": "code",
      "execution_count": null,
      "metadata": {
        "id": "qC-9wLIYqK5d"
      },
      "outputs": [],
      "source": [
        "library(help = \"nortest\")"
      ]
    },
    {
      "cell_type": "code",
      "execution_count": null,
      "metadata": {
        "id": "A2XM2g0aqPKW"
      },
      "outputs": [],
      "source": [
        "library(help = \"fields\")"
      ]
    },
    {
      "cell_type": "code",
      "execution_count": null,
      "metadata": {
        "id": "QGo1Hsd8q6ye"
      },
      "outputs": [],
      "source": [
        "library(help = \"Amelia\")"
      ]
    },
    {
      "cell_type": "code",
      "execution_count": null,
      "metadata": {
        "id": "PbWBZCrur23N"
      },
      "outputs": [],
      "source": [
        "library(datasets)"
      ]
    },
    {
      "cell_type": "code",
      "execution_count": null,
      "metadata": {
        "id": "3fS27IyBzikw"
      },
      "outputs": [],
      "source": [
        "data()"
      ]
    },
    {
      "cell_type": "code",
      "execution_count": null,
      "metadata": {
        "id": "_0FomkXzzkm3"
      },
      "outputs": [],
      "source": [
        "url <- \"https://archive.ics.uci.edu/ml/machine-learning-databases/wine-quality/winequality-red.csv\""
      ]
    },
    {
      "cell_type": "code",
      "execution_count": null,
      "metadata": {
        "id": "cjaTy7N4RmwX"
      },
      "outputs": [],
      "source": [
        "data <- read.csv(url, sep = \";\", header = T)"
      ]
    },
    {
      "cell_type": "code",
      "execution_count": null,
      "metadata": {
        "colab": {
          "base_uri": "https://localhost:8080/",
          "height": 303
        },
        "id": "3mACmtsBSg8e",
        "outputId": "aae3efc0-d194-4d8c-a4b8-f34af31820eb"
      },
      "outputs": [
        {
          "data": {
            "text/html": [
              "<table class=\"dataframe\">\n",
              "<caption>A data.frame: 6 × 12</caption>\n",
              "<thead>\n",
              "\t<tr><th></th><th scope=col>fixed.acidity</th><th scope=col>volatile.acidity</th><th scope=col>citric.acid</th><th scope=col>residual.sugar</th><th scope=col>chlorides</th><th scope=col>free.sulfur.dioxide</th><th scope=col>total.sulfur.dioxide</th><th scope=col>density</th><th scope=col>pH</th><th scope=col>sulphates</th><th scope=col>alcohol</th><th scope=col>quality</th></tr>\n",
              "\t<tr><th></th><th scope=col>&lt;dbl&gt;</th><th scope=col>&lt;dbl&gt;</th><th scope=col>&lt;dbl&gt;</th><th scope=col>&lt;dbl&gt;</th><th scope=col>&lt;dbl&gt;</th><th scope=col>&lt;dbl&gt;</th><th scope=col>&lt;dbl&gt;</th><th scope=col>&lt;dbl&gt;</th><th scope=col>&lt;dbl&gt;</th><th scope=col>&lt;dbl&gt;</th><th scope=col>&lt;dbl&gt;</th><th scope=col>&lt;int&gt;</th></tr>\n",
              "</thead>\n",
              "<tbody>\n",
              "\t<tr><th scope=row>1</th><td> 7.4</td><td>0.70</td><td>0.00</td><td>1.9</td><td>0.076</td><td>11</td><td>34</td><td>0.9978</td><td>3.51</td><td>0.56</td><td>9.4</td><td>5</td></tr>\n",
              "\t<tr><th scope=row>2</th><td> 7.8</td><td>0.88</td><td>0.00</td><td>2.6</td><td>0.098</td><td>25</td><td>67</td><td>0.9968</td><td>3.20</td><td>0.68</td><td>9.8</td><td>5</td></tr>\n",
              "\t<tr><th scope=row>3</th><td> 7.8</td><td>0.76</td><td>0.04</td><td>2.3</td><td>0.092</td><td>15</td><td>54</td><td>0.9970</td><td>3.26</td><td>0.65</td><td>9.8</td><td>5</td></tr>\n",
              "\t<tr><th scope=row>4</th><td>11.2</td><td>0.28</td><td>0.56</td><td>1.9</td><td>0.075</td><td>17</td><td>60</td><td>0.9980</td><td>3.16</td><td>0.58</td><td>9.8</td><td>6</td></tr>\n",
              "\t<tr><th scope=row>5</th><td> 7.4</td><td>0.70</td><td>0.00</td><td>1.9</td><td>0.076</td><td>11</td><td>34</td><td>0.9978</td><td>3.51</td><td>0.56</td><td>9.4</td><td>5</td></tr>\n",
              "\t<tr><th scope=row>6</th><td> 7.4</td><td>0.66</td><td>0.00</td><td>1.8</td><td>0.075</td><td>13</td><td>40</td><td>0.9978</td><td>3.51</td><td>0.56</td><td>9.4</td><td>5</td></tr>\n",
              "</tbody>\n",
              "</table>\n"
            ],
            "text/latex": "A data.frame: 6 × 12\n\\begin{tabular}{r|llllllllllll}\n  & fixed.acidity & volatile.acidity & citric.acid & residual.sugar & chlorides & free.sulfur.dioxide & total.sulfur.dioxide & density & pH & sulphates & alcohol & quality\\\\\n  & <dbl> & <dbl> & <dbl> & <dbl> & <dbl> & <dbl> & <dbl> & <dbl> & <dbl> & <dbl> & <dbl> & <int>\\\\\n\\hline\n\t1 &  7.4 & 0.70 & 0.00 & 1.9 & 0.076 & 11 & 34 & 0.9978 & 3.51 & 0.56 & 9.4 & 5\\\\\n\t2 &  7.8 & 0.88 & 0.00 & 2.6 & 0.098 & 25 & 67 & 0.9968 & 3.20 & 0.68 & 9.8 & 5\\\\\n\t3 &  7.8 & 0.76 & 0.04 & 2.3 & 0.092 & 15 & 54 & 0.9970 & 3.26 & 0.65 & 9.8 & 5\\\\\n\t4 & 11.2 & 0.28 & 0.56 & 1.9 & 0.075 & 17 & 60 & 0.9980 & 3.16 & 0.58 & 9.8 & 6\\\\\n\t5 &  7.4 & 0.70 & 0.00 & 1.9 & 0.076 & 11 & 34 & 0.9978 & 3.51 & 0.56 & 9.4 & 5\\\\\n\t6 &  7.4 & 0.66 & 0.00 & 1.8 & 0.075 & 13 & 40 & 0.9978 & 3.51 & 0.56 & 9.4 & 5\\\\\n\\end{tabular}\n",
            "text/markdown": "\nA data.frame: 6 × 12\n\n| <!--/--> | fixed.acidity &lt;dbl&gt; | volatile.acidity &lt;dbl&gt; | citric.acid &lt;dbl&gt; | residual.sugar &lt;dbl&gt; | chlorides &lt;dbl&gt; | free.sulfur.dioxide &lt;dbl&gt; | total.sulfur.dioxide &lt;dbl&gt; | density &lt;dbl&gt; | pH &lt;dbl&gt; | sulphates &lt;dbl&gt; | alcohol &lt;dbl&gt; | quality &lt;int&gt; |\n|---|---|---|---|---|---|---|---|---|---|---|---|---|\n| 1 |  7.4 | 0.70 | 0.00 | 1.9 | 0.076 | 11 | 34 | 0.9978 | 3.51 | 0.56 | 9.4 | 5 |\n| 2 |  7.8 | 0.88 | 0.00 | 2.6 | 0.098 | 25 | 67 | 0.9968 | 3.20 | 0.68 | 9.8 | 5 |\n| 3 |  7.8 | 0.76 | 0.04 | 2.3 | 0.092 | 15 | 54 | 0.9970 | 3.26 | 0.65 | 9.8 | 5 |\n| 4 | 11.2 | 0.28 | 0.56 | 1.9 | 0.075 | 17 | 60 | 0.9980 | 3.16 | 0.58 | 9.8 | 6 |\n| 5 |  7.4 | 0.70 | 0.00 | 1.9 | 0.076 | 11 | 34 | 0.9978 | 3.51 | 0.56 | 9.4 | 5 |\n| 6 |  7.4 | 0.66 | 0.00 | 1.8 | 0.075 | 13 | 40 | 0.9978 | 3.51 | 0.56 | 9.4 | 5 |\n\n",
            "text/plain": [
              "  fixed.acidity volatile.acidity citric.acid residual.sugar chlorides\n",
              "1  7.4          0.70             0.00        1.9            0.076    \n",
              "2  7.8          0.88             0.00        2.6            0.098    \n",
              "3  7.8          0.76             0.04        2.3            0.092    \n",
              "4 11.2          0.28             0.56        1.9            0.075    \n",
              "5  7.4          0.70             0.00        1.9            0.076    \n",
              "6  7.4          0.66             0.00        1.8            0.075    \n",
              "  free.sulfur.dioxide total.sulfur.dioxide density pH   sulphates alcohol\n",
              "1 11                  34                   0.9978  3.51 0.56      9.4    \n",
              "2 25                  67                   0.9968  3.20 0.68      9.8    \n",
              "3 15                  54                   0.9970  3.26 0.65      9.8    \n",
              "4 17                  60                   0.9980  3.16 0.58      9.8    \n",
              "5 11                  34                   0.9978  3.51 0.56      9.4    \n",
              "6 13                  40                   0.9978  3.51 0.56      9.4    \n",
              "  quality\n",
              "1 5      \n",
              "2 5      \n",
              "3 5      \n",
              "4 6      \n",
              "5 5      \n",
              "6 5      "
            ]
          },
          "metadata": {
            "tags": []
          },
          "output_type": "display_data"
        }
      ],
      "source": [
        "head(data) # view(data) => all dataset"
      ]
    },
    {
      "cell_type": "code",
      "execution_count": null,
      "metadata": {
        "id": "plz4D5FYSlFW"
      },
      "outputs": [],
      "source": [
        "data2 <- data[,-c(1,3)] # Delete columns"
      ]
    },
    {
      "cell_type": "code",
      "execution_count": null,
      "metadata": {
        "colab": {
          "base_uri": "https://localhost:8080/",
          "height": 303
        },
        "id": "jA0g8FrLUWck",
        "outputId": "d83ae9a9-7a18-4557-9b47-7a2ebd259341"
      },
      "outputs": [
        {
          "data": {
            "text/html": [
              "<table class=\"dataframe\">\n",
              "<caption>A data.frame: 6 × 10</caption>\n",
              "<thead>\n",
              "\t<tr><th></th><th scope=col>volatile.acidity</th><th scope=col>residual.sugar</th><th scope=col>chlorides</th><th scope=col>free.sulfur.dioxide</th><th scope=col>total.sulfur.dioxide</th><th scope=col>density</th><th scope=col>pH</th><th scope=col>sulphates</th><th scope=col>alcohol</th><th scope=col>quality</th></tr>\n",
              "\t<tr><th></th><th scope=col>&lt;dbl&gt;</th><th scope=col>&lt;dbl&gt;</th><th scope=col>&lt;dbl&gt;</th><th scope=col>&lt;dbl&gt;</th><th scope=col>&lt;dbl&gt;</th><th scope=col>&lt;dbl&gt;</th><th scope=col>&lt;dbl&gt;</th><th scope=col>&lt;dbl&gt;</th><th scope=col>&lt;dbl&gt;</th><th scope=col>&lt;int&gt;</th></tr>\n",
              "</thead>\n",
              "<tbody>\n",
              "\t<tr><th scope=row>1</th><td>0.70</td><td>1.9</td><td>0.076</td><td>11</td><td>34</td><td>0.9978</td><td>3.51</td><td>0.56</td><td>9.4</td><td>5</td></tr>\n",
              "\t<tr><th scope=row>2</th><td>0.88</td><td>2.6</td><td>0.098</td><td>25</td><td>67</td><td>0.9968</td><td>3.20</td><td>0.68</td><td>9.8</td><td>5</td></tr>\n",
              "\t<tr><th scope=row>3</th><td>0.76</td><td>2.3</td><td>0.092</td><td>15</td><td>54</td><td>0.9970</td><td>3.26</td><td>0.65</td><td>9.8</td><td>5</td></tr>\n",
              "\t<tr><th scope=row>4</th><td>0.28</td><td>1.9</td><td>0.075</td><td>17</td><td>60</td><td>0.9980</td><td>3.16</td><td>0.58</td><td>9.8</td><td>6</td></tr>\n",
              "\t<tr><th scope=row>5</th><td>0.70</td><td>1.9</td><td>0.076</td><td>11</td><td>34</td><td>0.9978</td><td>3.51</td><td>0.56</td><td>9.4</td><td>5</td></tr>\n",
              "\t<tr><th scope=row>6</th><td>0.66</td><td>1.8</td><td>0.075</td><td>13</td><td>40</td><td>0.9978</td><td>3.51</td><td>0.56</td><td>9.4</td><td>5</td></tr>\n",
              "</tbody>\n",
              "</table>\n"
            ],
            "text/latex": "A data.frame: 6 × 10\n\\begin{tabular}{r|llllllllll}\n  & volatile.acidity & residual.sugar & chlorides & free.sulfur.dioxide & total.sulfur.dioxide & density & pH & sulphates & alcohol & quality\\\\\n  & <dbl> & <dbl> & <dbl> & <dbl> & <dbl> & <dbl> & <dbl> & <dbl> & <dbl> & <int>\\\\\n\\hline\n\t1 & 0.70 & 1.9 & 0.076 & 11 & 34 & 0.9978 & 3.51 & 0.56 & 9.4 & 5\\\\\n\t2 & 0.88 & 2.6 & 0.098 & 25 & 67 & 0.9968 & 3.20 & 0.68 & 9.8 & 5\\\\\n\t3 & 0.76 & 2.3 & 0.092 & 15 & 54 & 0.9970 & 3.26 & 0.65 & 9.8 & 5\\\\\n\t4 & 0.28 & 1.9 & 0.075 & 17 & 60 & 0.9980 & 3.16 & 0.58 & 9.8 & 6\\\\\n\t5 & 0.70 & 1.9 & 0.076 & 11 & 34 & 0.9978 & 3.51 & 0.56 & 9.4 & 5\\\\\n\t6 & 0.66 & 1.8 & 0.075 & 13 & 40 & 0.9978 & 3.51 & 0.56 & 9.4 & 5\\\\\n\\end{tabular}\n",
            "text/markdown": "\nA data.frame: 6 × 10\n\n| <!--/--> | volatile.acidity &lt;dbl&gt; | residual.sugar &lt;dbl&gt; | chlorides &lt;dbl&gt; | free.sulfur.dioxide &lt;dbl&gt; | total.sulfur.dioxide &lt;dbl&gt; | density &lt;dbl&gt; | pH &lt;dbl&gt; | sulphates &lt;dbl&gt; | alcohol &lt;dbl&gt; | quality &lt;int&gt; |\n|---|---|---|---|---|---|---|---|---|---|---|\n| 1 | 0.70 | 1.9 | 0.076 | 11 | 34 | 0.9978 | 3.51 | 0.56 | 9.4 | 5 |\n| 2 | 0.88 | 2.6 | 0.098 | 25 | 67 | 0.9968 | 3.20 | 0.68 | 9.8 | 5 |\n| 3 | 0.76 | 2.3 | 0.092 | 15 | 54 | 0.9970 | 3.26 | 0.65 | 9.8 | 5 |\n| 4 | 0.28 | 1.9 | 0.075 | 17 | 60 | 0.9980 | 3.16 | 0.58 | 9.8 | 6 |\n| 5 | 0.70 | 1.9 | 0.076 | 11 | 34 | 0.9978 | 3.51 | 0.56 | 9.4 | 5 |\n| 6 | 0.66 | 1.8 | 0.075 | 13 | 40 | 0.9978 | 3.51 | 0.56 | 9.4 | 5 |\n\n",
            "text/plain": [
              "  volatile.acidity residual.sugar chlorides free.sulfur.dioxide\n",
              "1 0.70             1.9            0.076     11                 \n",
              "2 0.88             2.6            0.098     25                 \n",
              "3 0.76             2.3            0.092     15                 \n",
              "4 0.28             1.9            0.075     17                 \n",
              "5 0.70             1.9            0.076     11                 \n",
              "6 0.66             1.8            0.075     13                 \n",
              "  total.sulfur.dioxide density pH   sulphates alcohol quality\n",
              "1 34                   0.9978  3.51 0.56      9.4     5      \n",
              "2 67                   0.9968  3.20 0.68      9.8     5      \n",
              "3 54                   0.9970  3.26 0.65      9.8     5      \n",
              "4 60                   0.9980  3.16 0.58      9.8     6      \n",
              "5 34                   0.9978  3.51 0.56      9.4     5      \n",
              "6 40                   0.9978  3.51 0.56      9.4     5      "
            ]
          },
          "metadata": {
            "tags": []
          },
          "output_type": "display_data"
        }
      ],
      "source": [
        "head(data2)"
      ]
    },
    {
      "cell_type": "code",
      "execution_count": null,
      "metadata": {
        "id": "Jcb_AnAEUdkz"
      },
      "outputs": [],
      "source": [
        "data3 <- data[-(22:100),] # Delete rows"
      ]
    },
    {
      "cell_type": "code",
      "execution_count": null,
      "metadata": {
        "colab": {
          "base_uri": "https://localhost:8080/",
          "height": 1000
        },
        "id": "Lf-ZyFQzVW-G",
        "outputId": "66adddc3-da05-4f8b-f3b4-3974d112fc88"
      },
      "outputs": [
        {
          "data": {
            "text/html": [
              "<table class=\"dataframe\">\n",
              "<caption>A data.frame: 1520 × 12</caption>\n",
              "<thead>\n",
              "\t<tr><th></th><th scope=col>fixed.acidity</th><th scope=col>volatile.acidity</th><th scope=col>citric.acid</th><th scope=col>residual.sugar</th><th scope=col>chlorides</th><th scope=col>free.sulfur.dioxide</th><th scope=col>total.sulfur.dioxide</th><th scope=col>density</th><th scope=col>pH</th><th scope=col>sulphates</th><th scope=col>alcohol</th><th scope=col>quality</th></tr>\n",
              "\t<tr><th></th><th scope=col>&lt;dbl&gt;</th><th scope=col>&lt;dbl&gt;</th><th scope=col>&lt;dbl&gt;</th><th scope=col>&lt;dbl&gt;</th><th scope=col>&lt;dbl&gt;</th><th scope=col>&lt;dbl&gt;</th><th scope=col>&lt;dbl&gt;</th><th scope=col>&lt;dbl&gt;</th><th scope=col>&lt;dbl&gt;</th><th scope=col>&lt;dbl&gt;</th><th scope=col>&lt;dbl&gt;</th><th scope=col>&lt;int&gt;</th></tr>\n",
              "</thead>\n",
              "<tbody>\n",
              "\t<tr><th scope=row>1</th><td> 7.4</td><td>0.700</td><td>0.00</td><td>1.9</td><td>0.076</td><td>11</td><td> 34</td><td>0.9978</td><td>3.51</td><td>0.56</td><td> 9.4</td><td>5</td></tr>\n",
              "\t<tr><th scope=row>2</th><td> 7.8</td><td>0.880</td><td>0.00</td><td>2.6</td><td>0.098</td><td>25</td><td> 67</td><td>0.9968</td><td>3.20</td><td>0.68</td><td> 9.8</td><td>5</td></tr>\n",
              "\t<tr><th scope=row>3</th><td> 7.8</td><td>0.760</td><td>0.04</td><td>2.3</td><td>0.092</td><td>15</td><td> 54</td><td>0.9970</td><td>3.26</td><td>0.65</td><td> 9.8</td><td>5</td></tr>\n",
              "\t<tr><th scope=row>4</th><td>11.2</td><td>0.280</td><td>0.56</td><td>1.9</td><td>0.075</td><td>17</td><td> 60</td><td>0.9980</td><td>3.16</td><td>0.58</td><td> 9.8</td><td>6</td></tr>\n",
              "\t<tr><th scope=row>5</th><td> 7.4</td><td>0.700</td><td>0.00</td><td>1.9</td><td>0.076</td><td>11</td><td> 34</td><td>0.9978</td><td>3.51</td><td>0.56</td><td> 9.4</td><td>5</td></tr>\n",
              "\t<tr><th scope=row>6</th><td> 7.4</td><td>0.660</td><td>0.00</td><td>1.8</td><td>0.075</td><td>13</td><td> 40</td><td>0.9978</td><td>3.51</td><td>0.56</td><td> 9.4</td><td>5</td></tr>\n",
              "\t<tr><th scope=row>7</th><td> 7.9</td><td>0.600</td><td>0.06</td><td>1.6</td><td>0.069</td><td>15</td><td> 59</td><td>0.9964</td><td>3.30</td><td>0.46</td><td> 9.4</td><td>5</td></tr>\n",
              "\t<tr><th scope=row>8</th><td> 7.3</td><td>0.650</td><td>0.00</td><td>1.2</td><td>0.065</td><td>15</td><td> 21</td><td>0.9946</td><td>3.39</td><td>0.47</td><td>10.0</td><td>7</td></tr>\n",
              "\t<tr><th scope=row>9</th><td> 7.8</td><td>0.580</td><td>0.02</td><td>2.0</td><td>0.073</td><td> 9</td><td> 18</td><td>0.9968</td><td>3.36</td><td>0.57</td><td> 9.5</td><td>7</td></tr>\n",
              "\t<tr><th scope=row>10</th><td> 7.5</td><td>0.500</td><td>0.36</td><td>6.1</td><td>0.071</td><td>17</td><td>102</td><td>0.9978</td><td>3.35</td><td>0.80</td><td>10.5</td><td>5</td></tr>\n",
              "\t<tr><th scope=row>11</th><td> 6.7</td><td>0.580</td><td>0.08</td><td>1.8</td><td>0.097</td><td>15</td><td> 65</td><td>0.9959</td><td>3.28</td><td>0.54</td><td> 9.2</td><td>5</td></tr>\n",
              "\t<tr><th scope=row>12</th><td> 7.5</td><td>0.500</td><td>0.36</td><td>6.1</td><td>0.071</td><td>17</td><td>102</td><td>0.9978</td><td>3.35</td><td>0.80</td><td>10.5</td><td>5</td></tr>\n",
              "\t<tr><th scope=row>13</th><td> 5.6</td><td>0.615</td><td>0.00</td><td>1.6</td><td>0.089</td><td>16</td><td> 59</td><td>0.9943</td><td>3.58</td><td>0.52</td><td> 9.9</td><td>5</td></tr>\n",
              "\t<tr><th scope=row>14</th><td> 7.8</td><td>0.610</td><td>0.29</td><td>1.6</td><td>0.114</td><td> 9</td><td> 29</td><td>0.9974</td><td>3.26</td><td>1.56</td><td> 9.1</td><td>5</td></tr>\n",
              "\t<tr><th scope=row>15</th><td> 8.9</td><td>0.620</td><td>0.18</td><td>3.8</td><td>0.176</td><td>52</td><td>145</td><td>0.9986</td><td>3.16</td><td>0.88</td><td> 9.2</td><td>5</td></tr>\n",
              "\t<tr><th scope=row>16</th><td> 8.9</td><td>0.620</td><td>0.19</td><td>3.9</td><td>0.170</td><td>51</td><td>148</td><td>0.9986</td><td>3.17</td><td>0.93</td><td> 9.2</td><td>5</td></tr>\n",
              "\t<tr><th scope=row>17</th><td> 8.5</td><td>0.280</td><td>0.56</td><td>1.8</td><td>0.092</td><td>35</td><td>103</td><td>0.9969</td><td>3.30</td><td>0.75</td><td>10.5</td><td>7</td></tr>\n",
              "\t<tr><th scope=row>18</th><td> 8.1</td><td>0.560</td><td>0.28</td><td>1.7</td><td>0.368</td><td>16</td><td> 56</td><td>0.9968</td><td>3.11</td><td>1.28</td><td> 9.3</td><td>5</td></tr>\n",
              "\t<tr><th scope=row>19</th><td> 7.4</td><td>0.590</td><td>0.08</td><td>4.4</td><td>0.086</td><td> 6</td><td> 29</td><td>0.9974</td><td>3.38</td><td>0.50</td><td> 9.0</td><td>4</td></tr>\n",
              "\t<tr><th scope=row>20</th><td> 7.9</td><td>0.320</td><td>0.51</td><td>1.8</td><td>0.341</td><td>17</td><td> 56</td><td>0.9969</td><td>3.04</td><td>1.08</td><td> 9.2</td><td>6</td></tr>\n",
              "\t<tr><th scope=row>21</th><td> 8.9</td><td>0.220</td><td>0.48</td><td>1.8</td><td>0.077</td><td>29</td><td> 60</td><td>0.9968</td><td>3.39</td><td>0.53</td><td> 9.4</td><td>6</td></tr>\n",
              "\t<tr><th scope=row>101</th><td> 8.3</td><td>0.610</td><td>0.30</td><td>2.1</td><td>0.084</td><td>11</td><td> 50</td><td>0.9972</td><td>3.40</td><td>0.61</td><td>10.2</td><td>6</td></tr>\n",
              "\t<tr><th scope=row>102</th><td> 7.8</td><td>0.500</td><td>0.30</td><td>1.9</td><td>0.075</td><td> 8</td><td> 22</td><td>0.9959</td><td>3.31</td><td>0.56</td><td>10.4</td><td>6</td></tr>\n",
              "\t<tr><th scope=row>103</th><td> 8.1</td><td>0.545</td><td>0.18</td><td>1.9</td><td>0.080</td><td>13</td><td> 35</td><td>0.9972</td><td>3.30</td><td>0.59</td><td> 9.0</td><td>6</td></tr>\n",
              "\t<tr><th scope=row>104</th><td> 8.1</td><td>0.575</td><td>0.22</td><td>2.1</td><td>0.077</td><td>12</td><td> 65</td><td>0.9967</td><td>3.29</td><td>0.51</td><td> 9.2</td><td>5</td></tr>\n",
              "\t<tr><th scope=row>105</th><td> 7.2</td><td>0.490</td><td>0.24</td><td>2.2</td><td>0.070</td><td> 5</td><td> 36</td><td>0.9960</td><td>3.33</td><td>0.48</td><td> 9.4</td><td>5</td></tr>\n",
              "\t<tr><th scope=row>106</th><td> 8.1</td><td>0.575</td><td>0.22</td><td>2.1</td><td>0.077</td><td>12</td><td> 65</td><td>0.9967</td><td>3.29</td><td>0.51</td><td> 9.2</td><td>5</td></tr>\n",
              "\t<tr><th scope=row>107</th><td> 7.8</td><td>0.410</td><td>0.68</td><td>1.7</td><td>0.467</td><td>18</td><td> 69</td><td>0.9973</td><td>3.08</td><td>1.31</td><td> 9.3</td><td>5</td></tr>\n",
              "\t<tr><th scope=row>108</th><td> 6.2</td><td>0.630</td><td>0.31</td><td>1.7</td><td>0.088</td><td>15</td><td> 64</td><td>0.9969</td><td>3.46</td><td>0.79</td><td> 9.3</td><td>5</td></tr>\n",
              "\t<tr><th scope=row>109</th><td> 8.0</td><td>0.330</td><td>0.53</td><td>2.5</td><td>0.091</td><td>18</td><td> 80</td><td>0.9976</td><td>3.37</td><td>0.80</td><td> 9.6</td><td>6</td></tr>\n",
              "\t<tr><th scope=row>⋮</th><td>⋮</td><td>⋮</td><td>⋮</td><td>⋮</td><td>⋮</td><td>⋮</td><td>⋮</td><td>⋮</td><td>⋮</td><td>⋮</td><td>⋮</td><td>⋮</td></tr>\n",
              "\t<tr><th scope=row>1570</th><td>6.2</td><td>0.510</td><td>0.14</td><td> 1.9</td><td>0.056</td><td>15</td><td> 34</td><td>0.99396</td><td>3.48</td><td>0.57</td><td>11.5</td><td>6</td></tr>\n",
              "\t<tr><th scope=row>1571</th><td>6.4</td><td>0.360</td><td>0.53</td><td> 2.2</td><td>0.230</td><td>19</td><td> 35</td><td>0.99340</td><td>3.37</td><td>0.93</td><td>12.4</td><td>6</td></tr>\n",
              "\t<tr><th scope=row>1572</th><td>6.4</td><td>0.380</td><td>0.14</td><td> 2.2</td><td>0.038</td><td>15</td><td> 25</td><td>0.99514</td><td>3.44</td><td>0.65</td><td>11.1</td><td>6</td></tr>\n",
              "\t<tr><th scope=row>1573</th><td>7.3</td><td>0.690</td><td>0.32</td><td> 2.2</td><td>0.069</td><td>35</td><td>104</td><td>0.99632</td><td>3.33</td><td>0.51</td><td> 9.5</td><td>5</td></tr>\n",
              "\t<tr><th scope=row>1574</th><td>6.0</td><td>0.580</td><td>0.20</td><td> 2.4</td><td>0.075</td><td>15</td><td> 50</td><td>0.99467</td><td>3.58</td><td>0.67</td><td>12.5</td><td>6</td></tr>\n",
              "\t<tr><th scope=row>1575</th><td>5.6</td><td>0.310</td><td>0.78</td><td>13.9</td><td>0.074</td><td>23</td><td> 92</td><td>0.99677</td><td>3.39</td><td>0.48</td><td>10.5</td><td>6</td></tr>\n",
              "\t<tr><th scope=row>1576</th><td>7.5</td><td>0.520</td><td>0.40</td><td> 2.2</td><td>0.060</td><td>12</td><td> 20</td><td>0.99474</td><td>3.26</td><td>0.64</td><td>11.8</td><td>6</td></tr>\n",
              "\t<tr><th scope=row>1577</th><td>8.0</td><td>0.300</td><td>0.63</td><td> 1.6</td><td>0.081</td><td>16</td><td> 29</td><td>0.99588</td><td>3.30</td><td>0.78</td><td>10.8</td><td>6</td></tr>\n",
              "\t<tr><th scope=row>1578</th><td>6.2</td><td>0.700</td><td>0.15</td><td> 5.1</td><td>0.076</td><td>13</td><td> 27</td><td>0.99622</td><td>3.54</td><td>0.60</td><td>11.9</td><td>6</td></tr>\n",
              "\t<tr><th scope=row>1579</th><td>6.8</td><td>0.670</td><td>0.15</td><td> 1.8</td><td>0.118</td><td>13</td><td> 20</td><td>0.99540</td><td>3.42</td><td>0.67</td><td>11.3</td><td>6</td></tr>\n",
              "\t<tr><th scope=row>1580</th><td>6.2</td><td>0.560</td><td>0.09</td><td> 1.7</td><td>0.053</td><td>24</td><td> 32</td><td>0.99402</td><td>3.54</td><td>0.60</td><td>11.3</td><td>5</td></tr>\n",
              "\t<tr><th scope=row>1581</th><td>7.4</td><td>0.350</td><td>0.33</td><td> 2.4</td><td>0.068</td><td> 9</td><td> 26</td><td>0.99470</td><td>3.36</td><td>0.60</td><td>11.9</td><td>6</td></tr>\n",
              "\t<tr><th scope=row>1582</th><td>6.2</td><td>0.560</td><td>0.09</td><td> 1.7</td><td>0.053</td><td>24</td><td> 32</td><td>0.99402</td><td>3.54</td><td>0.60</td><td>11.3</td><td>5</td></tr>\n",
              "\t<tr><th scope=row>1583</th><td>6.1</td><td>0.715</td><td>0.10</td><td> 2.6</td><td>0.053</td><td>13</td><td> 27</td><td>0.99362</td><td>3.57</td><td>0.50</td><td>11.9</td><td>5</td></tr>\n",
              "\t<tr><th scope=row>1584</th><td>6.2</td><td>0.460</td><td>0.29</td><td> 2.1</td><td>0.074</td><td>32</td><td> 98</td><td>0.99578</td><td>3.33</td><td>0.62</td><td> 9.8</td><td>5</td></tr>\n",
              "\t<tr><th scope=row>1585</th><td>6.7</td><td>0.320</td><td>0.44</td><td> 2.4</td><td>0.061</td><td>24</td><td> 34</td><td>0.99484</td><td>3.29</td><td>0.80</td><td>11.6</td><td>7</td></tr>\n",
              "\t<tr><th scope=row>1586</th><td>7.2</td><td>0.390</td><td>0.44</td><td> 2.6</td><td>0.066</td><td>22</td><td> 48</td><td>0.99494</td><td>3.30</td><td>0.84</td><td>11.5</td><td>6</td></tr>\n",
              "\t<tr><th scope=row>1587</th><td>7.5</td><td>0.310</td><td>0.41</td><td> 2.4</td><td>0.065</td><td>34</td><td> 60</td><td>0.99492</td><td>3.34</td><td>0.85</td><td>11.4</td><td>6</td></tr>\n",
              "\t<tr><th scope=row>1588</th><td>5.8</td><td>0.610</td><td>0.11</td><td> 1.8</td><td>0.066</td><td>18</td><td> 28</td><td>0.99483</td><td>3.55</td><td>0.66</td><td>10.9</td><td>6</td></tr>\n",
              "\t<tr><th scope=row>1589</th><td>7.2</td><td>0.660</td><td>0.33</td><td> 2.5</td><td>0.068</td><td>34</td><td>102</td><td>0.99414</td><td>3.27</td><td>0.78</td><td>12.8</td><td>6</td></tr>\n",
              "\t<tr><th scope=row>1590</th><td>6.6</td><td>0.725</td><td>0.20</td><td> 7.8</td><td>0.073</td><td>29</td><td> 79</td><td>0.99770</td><td>3.29</td><td>0.54</td><td> 9.2</td><td>5</td></tr>\n",
              "\t<tr><th scope=row>1591</th><td>6.3</td><td>0.550</td><td>0.15</td><td> 1.8</td><td>0.077</td><td>26</td><td> 35</td><td>0.99314</td><td>3.32</td><td>0.82</td><td>11.6</td><td>6</td></tr>\n",
              "\t<tr><th scope=row>1592</th><td>5.4</td><td>0.740</td><td>0.09</td><td> 1.7</td><td>0.089</td><td>16</td><td> 26</td><td>0.99402</td><td>3.67</td><td>0.56</td><td>11.6</td><td>6</td></tr>\n",
              "\t<tr><th scope=row>1593</th><td>6.3</td><td>0.510</td><td>0.13</td><td> 2.3</td><td>0.076</td><td>29</td><td> 40</td><td>0.99574</td><td>3.42</td><td>0.75</td><td>11.0</td><td>6</td></tr>\n",
              "\t<tr><th scope=row>1594</th><td>6.8</td><td>0.620</td><td>0.08</td><td> 1.9</td><td>0.068</td><td>28</td><td> 38</td><td>0.99651</td><td>3.42</td><td>0.82</td><td> 9.5</td><td>6</td></tr>\n",
              "\t<tr><th scope=row>1595</th><td>6.2</td><td>0.600</td><td>0.08</td><td> 2.0</td><td>0.090</td><td>32</td><td> 44</td><td>0.99490</td><td>3.45</td><td>0.58</td><td>10.5</td><td>5</td></tr>\n",
              "\t<tr><th scope=row>1596</th><td>5.9</td><td>0.550</td><td>0.10</td><td> 2.2</td><td>0.062</td><td>39</td><td> 51</td><td>0.99512</td><td>3.52</td><td>0.76</td><td>11.2</td><td>6</td></tr>\n",
              "\t<tr><th scope=row>1597</th><td>6.3</td><td>0.510</td><td>0.13</td><td> 2.3</td><td>0.076</td><td>29</td><td> 40</td><td>0.99574</td><td>3.42</td><td>0.75</td><td>11.0</td><td>6</td></tr>\n",
              "\t<tr><th scope=row>1598</th><td>5.9</td><td>0.645</td><td>0.12</td><td> 2.0</td><td>0.075</td><td>32</td><td> 44</td><td>0.99547</td><td>3.57</td><td>0.71</td><td>10.2</td><td>5</td></tr>\n",
              "\t<tr><th scope=row>1599</th><td>6.0</td><td>0.310</td><td>0.47</td><td> 3.6</td><td>0.067</td><td>18</td><td> 42</td><td>0.99549</td><td>3.39</td><td>0.66</td><td>11.0</td><td>6</td></tr>\n",
              "</tbody>\n",
              "</table>\n"
            ],
            "text/latex": "A data.frame: 1520 × 12\n\\begin{tabular}{r|llllllllllll}\n  & fixed.acidity & volatile.acidity & citric.acid & residual.sugar & chlorides & free.sulfur.dioxide & total.sulfur.dioxide & density & pH & sulphates & alcohol & quality\\\\\n  & <dbl> & <dbl> & <dbl> & <dbl> & <dbl> & <dbl> & <dbl> & <dbl> & <dbl> & <dbl> & <dbl> & <int>\\\\\n\\hline\n\t1 &  7.4 & 0.700 & 0.00 & 1.9 & 0.076 & 11 &  34 & 0.9978 & 3.51 & 0.56 &  9.4 & 5\\\\\n\t2 &  7.8 & 0.880 & 0.00 & 2.6 & 0.098 & 25 &  67 & 0.9968 & 3.20 & 0.68 &  9.8 & 5\\\\\n\t3 &  7.8 & 0.760 & 0.04 & 2.3 & 0.092 & 15 &  54 & 0.9970 & 3.26 & 0.65 &  9.8 & 5\\\\\n\t4 & 11.2 & 0.280 & 0.56 & 1.9 & 0.075 & 17 &  60 & 0.9980 & 3.16 & 0.58 &  9.8 & 6\\\\\n\t5 &  7.4 & 0.700 & 0.00 & 1.9 & 0.076 & 11 &  34 & 0.9978 & 3.51 & 0.56 &  9.4 & 5\\\\\n\t6 &  7.4 & 0.660 & 0.00 & 1.8 & 0.075 & 13 &  40 & 0.9978 & 3.51 & 0.56 &  9.4 & 5\\\\\n\t7 &  7.9 & 0.600 & 0.06 & 1.6 & 0.069 & 15 &  59 & 0.9964 & 3.30 & 0.46 &  9.4 & 5\\\\\n\t8 &  7.3 & 0.650 & 0.00 & 1.2 & 0.065 & 15 &  21 & 0.9946 & 3.39 & 0.47 & 10.0 & 7\\\\\n\t9 &  7.8 & 0.580 & 0.02 & 2.0 & 0.073 &  9 &  18 & 0.9968 & 3.36 & 0.57 &  9.5 & 7\\\\\n\t10 &  7.5 & 0.500 & 0.36 & 6.1 & 0.071 & 17 & 102 & 0.9978 & 3.35 & 0.80 & 10.5 & 5\\\\\n\t11 &  6.7 & 0.580 & 0.08 & 1.8 & 0.097 & 15 &  65 & 0.9959 & 3.28 & 0.54 &  9.2 & 5\\\\\n\t12 &  7.5 & 0.500 & 0.36 & 6.1 & 0.071 & 17 & 102 & 0.9978 & 3.35 & 0.80 & 10.5 & 5\\\\\n\t13 &  5.6 & 0.615 & 0.00 & 1.6 & 0.089 & 16 &  59 & 0.9943 & 3.58 & 0.52 &  9.9 & 5\\\\\n\t14 &  7.8 & 0.610 & 0.29 & 1.6 & 0.114 &  9 &  29 & 0.9974 & 3.26 & 1.56 &  9.1 & 5\\\\\n\t15 &  8.9 & 0.620 & 0.18 & 3.8 & 0.176 & 52 & 145 & 0.9986 & 3.16 & 0.88 &  9.2 & 5\\\\\n\t16 &  8.9 & 0.620 & 0.19 & 3.9 & 0.170 & 51 & 148 & 0.9986 & 3.17 & 0.93 &  9.2 & 5\\\\\n\t17 &  8.5 & 0.280 & 0.56 & 1.8 & 0.092 & 35 & 103 & 0.9969 & 3.30 & 0.75 & 10.5 & 7\\\\\n\t18 &  8.1 & 0.560 & 0.28 & 1.7 & 0.368 & 16 &  56 & 0.9968 & 3.11 & 1.28 &  9.3 & 5\\\\\n\t19 &  7.4 & 0.590 & 0.08 & 4.4 & 0.086 &  6 &  29 & 0.9974 & 3.38 & 0.50 &  9.0 & 4\\\\\n\t20 &  7.9 & 0.320 & 0.51 & 1.8 & 0.341 & 17 &  56 & 0.9969 & 3.04 & 1.08 &  9.2 & 6\\\\\n\t21 &  8.9 & 0.220 & 0.48 & 1.8 & 0.077 & 29 &  60 & 0.9968 & 3.39 & 0.53 &  9.4 & 6\\\\\n\t101 &  8.3 & 0.610 & 0.30 & 2.1 & 0.084 & 11 &  50 & 0.9972 & 3.40 & 0.61 & 10.2 & 6\\\\\n\t102 &  7.8 & 0.500 & 0.30 & 1.9 & 0.075 &  8 &  22 & 0.9959 & 3.31 & 0.56 & 10.4 & 6\\\\\n\t103 &  8.1 & 0.545 & 0.18 & 1.9 & 0.080 & 13 &  35 & 0.9972 & 3.30 & 0.59 &  9.0 & 6\\\\\n\t104 &  8.1 & 0.575 & 0.22 & 2.1 & 0.077 & 12 &  65 & 0.9967 & 3.29 & 0.51 &  9.2 & 5\\\\\n\t105 &  7.2 & 0.490 & 0.24 & 2.2 & 0.070 &  5 &  36 & 0.9960 & 3.33 & 0.48 &  9.4 & 5\\\\\n\t106 &  8.1 & 0.575 & 0.22 & 2.1 & 0.077 & 12 &  65 & 0.9967 & 3.29 & 0.51 &  9.2 & 5\\\\\n\t107 &  7.8 & 0.410 & 0.68 & 1.7 & 0.467 & 18 &  69 & 0.9973 & 3.08 & 1.31 &  9.3 & 5\\\\\n\t108 &  6.2 & 0.630 & 0.31 & 1.7 & 0.088 & 15 &  64 & 0.9969 & 3.46 & 0.79 &  9.3 & 5\\\\\n\t109 &  8.0 & 0.330 & 0.53 & 2.5 & 0.091 & 18 &  80 & 0.9976 & 3.37 & 0.80 &  9.6 & 6\\\\\n\t⋮ & ⋮ & ⋮ & ⋮ & ⋮ & ⋮ & ⋮ & ⋮ & ⋮ & ⋮ & ⋮ & ⋮ & ⋮\\\\\n\t1570 & 6.2 & 0.510 & 0.14 &  1.9 & 0.056 & 15 &  34 & 0.99396 & 3.48 & 0.57 & 11.5 & 6\\\\\n\t1571 & 6.4 & 0.360 & 0.53 &  2.2 & 0.230 & 19 &  35 & 0.99340 & 3.37 & 0.93 & 12.4 & 6\\\\\n\t1572 & 6.4 & 0.380 & 0.14 &  2.2 & 0.038 & 15 &  25 & 0.99514 & 3.44 & 0.65 & 11.1 & 6\\\\\n\t1573 & 7.3 & 0.690 & 0.32 &  2.2 & 0.069 & 35 & 104 & 0.99632 & 3.33 & 0.51 &  9.5 & 5\\\\\n\t1574 & 6.0 & 0.580 & 0.20 &  2.4 & 0.075 & 15 &  50 & 0.99467 & 3.58 & 0.67 & 12.5 & 6\\\\\n\t1575 & 5.6 & 0.310 & 0.78 & 13.9 & 0.074 & 23 &  92 & 0.99677 & 3.39 & 0.48 & 10.5 & 6\\\\\n\t1576 & 7.5 & 0.520 & 0.40 &  2.2 & 0.060 & 12 &  20 & 0.99474 & 3.26 & 0.64 & 11.8 & 6\\\\\n\t1577 & 8.0 & 0.300 & 0.63 &  1.6 & 0.081 & 16 &  29 & 0.99588 & 3.30 & 0.78 & 10.8 & 6\\\\\n\t1578 & 6.2 & 0.700 & 0.15 &  5.1 & 0.076 & 13 &  27 & 0.99622 & 3.54 & 0.60 & 11.9 & 6\\\\\n\t1579 & 6.8 & 0.670 & 0.15 &  1.8 & 0.118 & 13 &  20 & 0.99540 & 3.42 & 0.67 & 11.3 & 6\\\\\n\t1580 & 6.2 & 0.560 & 0.09 &  1.7 & 0.053 & 24 &  32 & 0.99402 & 3.54 & 0.60 & 11.3 & 5\\\\\n\t1581 & 7.4 & 0.350 & 0.33 &  2.4 & 0.068 &  9 &  26 & 0.99470 & 3.36 & 0.60 & 11.9 & 6\\\\\n\t1582 & 6.2 & 0.560 & 0.09 &  1.7 & 0.053 & 24 &  32 & 0.99402 & 3.54 & 0.60 & 11.3 & 5\\\\\n\t1583 & 6.1 & 0.715 & 0.10 &  2.6 & 0.053 & 13 &  27 & 0.99362 & 3.57 & 0.50 & 11.9 & 5\\\\\n\t1584 & 6.2 & 0.460 & 0.29 &  2.1 & 0.074 & 32 &  98 & 0.99578 & 3.33 & 0.62 &  9.8 & 5\\\\\n\t1585 & 6.7 & 0.320 & 0.44 &  2.4 & 0.061 & 24 &  34 & 0.99484 & 3.29 & 0.80 & 11.6 & 7\\\\\n\t1586 & 7.2 & 0.390 & 0.44 &  2.6 & 0.066 & 22 &  48 & 0.99494 & 3.30 & 0.84 & 11.5 & 6\\\\\n\t1587 & 7.5 & 0.310 & 0.41 &  2.4 & 0.065 & 34 &  60 & 0.99492 & 3.34 & 0.85 & 11.4 & 6\\\\\n\t1588 & 5.8 & 0.610 & 0.11 &  1.8 & 0.066 & 18 &  28 & 0.99483 & 3.55 & 0.66 & 10.9 & 6\\\\\n\t1589 & 7.2 & 0.660 & 0.33 &  2.5 & 0.068 & 34 & 102 & 0.99414 & 3.27 & 0.78 & 12.8 & 6\\\\\n\t1590 & 6.6 & 0.725 & 0.20 &  7.8 & 0.073 & 29 &  79 & 0.99770 & 3.29 & 0.54 &  9.2 & 5\\\\\n\t1591 & 6.3 & 0.550 & 0.15 &  1.8 & 0.077 & 26 &  35 & 0.99314 & 3.32 & 0.82 & 11.6 & 6\\\\\n\t1592 & 5.4 & 0.740 & 0.09 &  1.7 & 0.089 & 16 &  26 & 0.99402 & 3.67 & 0.56 & 11.6 & 6\\\\\n\t1593 & 6.3 & 0.510 & 0.13 &  2.3 & 0.076 & 29 &  40 & 0.99574 & 3.42 & 0.75 & 11.0 & 6\\\\\n\t1594 & 6.8 & 0.620 & 0.08 &  1.9 & 0.068 & 28 &  38 & 0.99651 & 3.42 & 0.82 &  9.5 & 6\\\\\n\t1595 & 6.2 & 0.600 & 0.08 &  2.0 & 0.090 & 32 &  44 & 0.99490 & 3.45 & 0.58 & 10.5 & 5\\\\\n\t1596 & 5.9 & 0.550 & 0.10 &  2.2 & 0.062 & 39 &  51 & 0.99512 & 3.52 & 0.76 & 11.2 & 6\\\\\n\t1597 & 6.3 & 0.510 & 0.13 &  2.3 & 0.076 & 29 &  40 & 0.99574 & 3.42 & 0.75 & 11.0 & 6\\\\\n\t1598 & 5.9 & 0.645 & 0.12 &  2.0 & 0.075 & 32 &  44 & 0.99547 & 3.57 & 0.71 & 10.2 & 5\\\\\n\t1599 & 6.0 & 0.310 & 0.47 &  3.6 & 0.067 & 18 &  42 & 0.99549 & 3.39 & 0.66 & 11.0 & 6\\\\\n\\end{tabular}\n",
            "text/markdown": "\nA data.frame: 1520 × 12\n\n| <!--/--> | fixed.acidity &lt;dbl&gt; | volatile.acidity &lt;dbl&gt; | citric.acid &lt;dbl&gt; | residual.sugar &lt;dbl&gt; | chlorides &lt;dbl&gt; | free.sulfur.dioxide &lt;dbl&gt; | total.sulfur.dioxide &lt;dbl&gt; | density &lt;dbl&gt; | pH &lt;dbl&gt; | sulphates &lt;dbl&gt; | alcohol &lt;dbl&gt; | quality &lt;int&gt; |\n|---|---|---|---|---|---|---|---|---|---|---|---|---|\n| 1 |  7.4 | 0.700 | 0.00 | 1.9 | 0.076 | 11 |  34 | 0.9978 | 3.51 | 0.56 |  9.4 | 5 |\n| 2 |  7.8 | 0.880 | 0.00 | 2.6 | 0.098 | 25 |  67 | 0.9968 | 3.20 | 0.68 |  9.8 | 5 |\n| 3 |  7.8 | 0.760 | 0.04 | 2.3 | 0.092 | 15 |  54 | 0.9970 | 3.26 | 0.65 |  9.8 | 5 |\n| 4 | 11.2 | 0.280 | 0.56 | 1.9 | 0.075 | 17 |  60 | 0.9980 | 3.16 | 0.58 |  9.8 | 6 |\n| 5 |  7.4 | 0.700 | 0.00 | 1.9 | 0.076 | 11 |  34 | 0.9978 | 3.51 | 0.56 |  9.4 | 5 |\n| 6 |  7.4 | 0.660 | 0.00 | 1.8 | 0.075 | 13 |  40 | 0.9978 | 3.51 | 0.56 |  9.4 | 5 |\n| 7 |  7.9 | 0.600 | 0.06 | 1.6 | 0.069 | 15 |  59 | 0.9964 | 3.30 | 0.46 |  9.4 | 5 |\n| 8 |  7.3 | 0.650 | 0.00 | 1.2 | 0.065 | 15 |  21 | 0.9946 | 3.39 | 0.47 | 10.0 | 7 |\n| 9 |  7.8 | 0.580 | 0.02 | 2.0 | 0.073 |  9 |  18 | 0.9968 | 3.36 | 0.57 |  9.5 | 7 |\n| 10 |  7.5 | 0.500 | 0.36 | 6.1 | 0.071 | 17 | 102 | 0.9978 | 3.35 | 0.80 | 10.5 | 5 |\n| 11 |  6.7 | 0.580 | 0.08 | 1.8 | 0.097 | 15 |  65 | 0.9959 | 3.28 | 0.54 |  9.2 | 5 |\n| 12 |  7.5 | 0.500 | 0.36 | 6.1 | 0.071 | 17 | 102 | 0.9978 | 3.35 | 0.80 | 10.5 | 5 |\n| 13 |  5.6 | 0.615 | 0.00 | 1.6 | 0.089 | 16 |  59 | 0.9943 | 3.58 | 0.52 |  9.9 | 5 |\n| 14 |  7.8 | 0.610 | 0.29 | 1.6 | 0.114 |  9 |  29 | 0.9974 | 3.26 | 1.56 |  9.1 | 5 |\n| 15 |  8.9 | 0.620 | 0.18 | 3.8 | 0.176 | 52 | 145 | 0.9986 | 3.16 | 0.88 |  9.2 | 5 |\n| 16 |  8.9 | 0.620 | 0.19 | 3.9 | 0.170 | 51 | 148 | 0.9986 | 3.17 | 0.93 |  9.2 | 5 |\n| 17 |  8.5 | 0.280 | 0.56 | 1.8 | 0.092 | 35 | 103 | 0.9969 | 3.30 | 0.75 | 10.5 | 7 |\n| 18 |  8.1 | 0.560 | 0.28 | 1.7 | 0.368 | 16 |  56 | 0.9968 | 3.11 | 1.28 |  9.3 | 5 |\n| 19 |  7.4 | 0.590 | 0.08 | 4.4 | 0.086 |  6 |  29 | 0.9974 | 3.38 | 0.50 |  9.0 | 4 |\n| 20 |  7.9 | 0.320 | 0.51 | 1.8 | 0.341 | 17 |  56 | 0.9969 | 3.04 | 1.08 |  9.2 | 6 |\n| 21 |  8.9 | 0.220 | 0.48 | 1.8 | 0.077 | 29 |  60 | 0.9968 | 3.39 | 0.53 |  9.4 | 6 |\n| 101 |  8.3 | 0.610 | 0.30 | 2.1 | 0.084 | 11 |  50 | 0.9972 | 3.40 | 0.61 | 10.2 | 6 |\n| 102 |  7.8 | 0.500 | 0.30 | 1.9 | 0.075 |  8 |  22 | 0.9959 | 3.31 | 0.56 | 10.4 | 6 |\n| 103 |  8.1 | 0.545 | 0.18 | 1.9 | 0.080 | 13 |  35 | 0.9972 | 3.30 | 0.59 |  9.0 | 6 |\n| 104 |  8.1 | 0.575 | 0.22 | 2.1 | 0.077 | 12 |  65 | 0.9967 | 3.29 | 0.51 |  9.2 | 5 |\n| 105 |  7.2 | 0.490 | 0.24 | 2.2 | 0.070 |  5 |  36 | 0.9960 | 3.33 | 0.48 |  9.4 | 5 |\n| 106 |  8.1 | 0.575 | 0.22 | 2.1 | 0.077 | 12 |  65 | 0.9967 | 3.29 | 0.51 |  9.2 | 5 |\n| 107 |  7.8 | 0.410 | 0.68 | 1.7 | 0.467 | 18 |  69 | 0.9973 | 3.08 | 1.31 |  9.3 | 5 |\n| 108 |  6.2 | 0.630 | 0.31 | 1.7 | 0.088 | 15 |  64 | 0.9969 | 3.46 | 0.79 |  9.3 | 5 |\n| 109 |  8.0 | 0.330 | 0.53 | 2.5 | 0.091 | 18 |  80 | 0.9976 | 3.37 | 0.80 |  9.6 | 6 |\n| ⋮ | ⋮ | ⋮ | ⋮ | ⋮ | ⋮ | ⋮ | ⋮ | ⋮ | ⋮ | ⋮ | ⋮ | ⋮ |\n| 1570 | 6.2 | 0.510 | 0.14 |  1.9 | 0.056 | 15 |  34 | 0.99396 | 3.48 | 0.57 | 11.5 | 6 |\n| 1571 | 6.4 | 0.360 | 0.53 |  2.2 | 0.230 | 19 |  35 | 0.99340 | 3.37 | 0.93 | 12.4 | 6 |\n| 1572 | 6.4 | 0.380 | 0.14 |  2.2 | 0.038 | 15 |  25 | 0.99514 | 3.44 | 0.65 | 11.1 | 6 |\n| 1573 | 7.3 | 0.690 | 0.32 |  2.2 | 0.069 | 35 | 104 | 0.99632 | 3.33 | 0.51 |  9.5 | 5 |\n| 1574 | 6.0 | 0.580 | 0.20 |  2.4 | 0.075 | 15 |  50 | 0.99467 | 3.58 | 0.67 | 12.5 | 6 |\n| 1575 | 5.6 | 0.310 | 0.78 | 13.9 | 0.074 | 23 |  92 | 0.99677 | 3.39 | 0.48 | 10.5 | 6 |\n| 1576 | 7.5 | 0.520 | 0.40 |  2.2 | 0.060 | 12 |  20 | 0.99474 | 3.26 | 0.64 | 11.8 | 6 |\n| 1577 | 8.0 | 0.300 | 0.63 |  1.6 | 0.081 | 16 |  29 | 0.99588 | 3.30 | 0.78 | 10.8 | 6 |\n| 1578 | 6.2 | 0.700 | 0.15 |  5.1 | 0.076 | 13 |  27 | 0.99622 | 3.54 | 0.60 | 11.9 | 6 |\n| 1579 | 6.8 | 0.670 | 0.15 |  1.8 | 0.118 | 13 |  20 | 0.99540 | 3.42 | 0.67 | 11.3 | 6 |\n| 1580 | 6.2 | 0.560 | 0.09 |  1.7 | 0.053 | 24 |  32 | 0.99402 | 3.54 | 0.60 | 11.3 | 5 |\n| 1581 | 7.4 | 0.350 | 0.33 |  2.4 | 0.068 |  9 |  26 | 0.99470 | 3.36 | 0.60 | 11.9 | 6 |\n| 1582 | 6.2 | 0.560 | 0.09 |  1.7 | 0.053 | 24 |  32 | 0.99402 | 3.54 | 0.60 | 11.3 | 5 |\n| 1583 | 6.1 | 0.715 | 0.10 |  2.6 | 0.053 | 13 |  27 | 0.99362 | 3.57 | 0.50 | 11.9 | 5 |\n| 1584 | 6.2 | 0.460 | 0.29 |  2.1 | 0.074 | 32 |  98 | 0.99578 | 3.33 | 0.62 |  9.8 | 5 |\n| 1585 | 6.7 | 0.320 | 0.44 |  2.4 | 0.061 | 24 |  34 | 0.99484 | 3.29 | 0.80 | 11.6 | 7 |\n| 1586 | 7.2 | 0.390 | 0.44 |  2.6 | 0.066 | 22 |  48 | 0.99494 | 3.30 | 0.84 | 11.5 | 6 |\n| 1587 | 7.5 | 0.310 | 0.41 |  2.4 | 0.065 | 34 |  60 | 0.99492 | 3.34 | 0.85 | 11.4 | 6 |\n| 1588 | 5.8 | 0.610 | 0.11 |  1.8 | 0.066 | 18 |  28 | 0.99483 | 3.55 | 0.66 | 10.9 | 6 |\n| 1589 | 7.2 | 0.660 | 0.33 |  2.5 | 0.068 | 34 | 102 | 0.99414 | 3.27 | 0.78 | 12.8 | 6 |\n| 1590 | 6.6 | 0.725 | 0.20 |  7.8 | 0.073 | 29 |  79 | 0.99770 | 3.29 | 0.54 |  9.2 | 5 |\n| 1591 | 6.3 | 0.550 | 0.15 |  1.8 | 0.077 | 26 |  35 | 0.99314 | 3.32 | 0.82 | 11.6 | 6 |\n| 1592 | 5.4 | 0.740 | 0.09 |  1.7 | 0.089 | 16 |  26 | 0.99402 | 3.67 | 0.56 | 11.6 | 6 |\n| 1593 | 6.3 | 0.510 | 0.13 |  2.3 | 0.076 | 29 |  40 | 0.99574 | 3.42 | 0.75 | 11.0 | 6 |\n| 1594 | 6.8 | 0.620 | 0.08 |  1.9 | 0.068 | 28 |  38 | 0.99651 | 3.42 | 0.82 |  9.5 | 6 |\n| 1595 | 6.2 | 0.600 | 0.08 |  2.0 | 0.090 | 32 |  44 | 0.99490 | 3.45 | 0.58 | 10.5 | 5 |\n| 1596 | 5.9 | 0.550 | 0.10 |  2.2 | 0.062 | 39 |  51 | 0.99512 | 3.52 | 0.76 | 11.2 | 6 |\n| 1597 | 6.3 | 0.510 | 0.13 |  2.3 | 0.076 | 29 |  40 | 0.99574 | 3.42 | 0.75 | 11.0 | 6 |\n| 1598 | 5.9 | 0.645 | 0.12 |  2.0 | 0.075 | 32 |  44 | 0.99547 | 3.57 | 0.71 | 10.2 | 5 |\n| 1599 | 6.0 | 0.310 | 0.47 |  3.6 | 0.067 | 18 |  42 | 0.99549 | 3.39 | 0.66 | 11.0 | 6 |\n\n",
            "text/plain": [
              "     fixed.acidity volatile.acidity citric.acid residual.sugar chlorides\n",
              "1     7.4          0.700            0.00        1.9            0.076    \n",
              "2     7.8          0.880            0.00        2.6            0.098    \n",
              "3     7.8          0.760            0.04        2.3            0.092    \n",
              "4    11.2          0.280            0.56        1.9            0.075    \n",
              "5     7.4          0.700            0.00        1.9            0.076    \n",
              "6     7.4          0.660            0.00        1.8            0.075    \n",
              "7     7.9          0.600            0.06        1.6            0.069    \n",
              "8     7.3          0.650            0.00        1.2            0.065    \n",
              "9     7.8          0.580            0.02        2.0            0.073    \n",
              "10    7.5          0.500            0.36        6.1            0.071    \n",
              "11    6.7          0.580            0.08        1.8            0.097    \n",
              "12    7.5          0.500            0.36        6.1            0.071    \n",
              "13    5.6          0.615            0.00        1.6            0.089    \n",
              "14    7.8          0.610            0.29        1.6            0.114    \n",
              "15    8.9          0.620            0.18        3.8            0.176    \n",
              "16    8.9          0.620            0.19        3.9            0.170    \n",
              "17    8.5          0.280            0.56        1.8            0.092    \n",
              "18    8.1          0.560            0.28        1.7            0.368    \n",
              "19    7.4          0.590            0.08        4.4            0.086    \n",
              "20    7.9          0.320            0.51        1.8            0.341    \n",
              "21    8.9          0.220            0.48        1.8            0.077    \n",
              "101   8.3          0.610            0.30        2.1            0.084    \n",
              "102   7.8          0.500            0.30        1.9            0.075    \n",
              "103   8.1          0.545            0.18        1.9            0.080    \n",
              "104   8.1          0.575            0.22        2.1            0.077    \n",
              "105   7.2          0.490            0.24        2.2            0.070    \n",
              "106   8.1          0.575            0.22        2.1            0.077    \n",
              "107   7.8          0.410            0.68        1.7            0.467    \n",
              "108   6.2          0.630            0.31        1.7            0.088    \n",
              "109   8.0          0.330            0.53        2.5            0.091    \n",
              "⋮    ⋮             ⋮                ⋮           ⋮              ⋮        \n",
              "1570 6.2           0.510            0.14         1.9           0.056    \n",
              "1571 6.4           0.360            0.53         2.2           0.230    \n",
              "1572 6.4           0.380            0.14         2.2           0.038    \n",
              "1573 7.3           0.690            0.32         2.2           0.069    \n",
              "1574 6.0           0.580            0.20         2.4           0.075    \n",
              "1575 5.6           0.310            0.78        13.9           0.074    \n",
              "1576 7.5           0.520            0.40         2.2           0.060    \n",
              "1577 8.0           0.300            0.63         1.6           0.081    \n",
              "1578 6.2           0.700            0.15         5.1           0.076    \n",
              "1579 6.8           0.670            0.15         1.8           0.118    \n",
              "1580 6.2           0.560            0.09         1.7           0.053    \n",
              "1581 7.4           0.350            0.33         2.4           0.068    \n",
              "1582 6.2           0.560            0.09         1.7           0.053    \n",
              "1583 6.1           0.715            0.10         2.6           0.053    \n",
              "1584 6.2           0.460            0.29         2.1           0.074    \n",
              "1585 6.7           0.320            0.44         2.4           0.061    \n",
              "1586 7.2           0.390            0.44         2.6           0.066    \n",
              "1587 7.5           0.310            0.41         2.4           0.065    \n",
              "1588 5.8           0.610            0.11         1.8           0.066    \n",
              "1589 7.2           0.660            0.33         2.5           0.068    \n",
              "1590 6.6           0.725            0.20         7.8           0.073    \n",
              "1591 6.3           0.550            0.15         1.8           0.077    \n",
              "1592 5.4           0.740            0.09         1.7           0.089    \n",
              "1593 6.3           0.510            0.13         2.3           0.076    \n",
              "1594 6.8           0.620            0.08         1.9           0.068    \n",
              "1595 6.2           0.600            0.08         2.0           0.090    \n",
              "1596 5.9           0.550            0.10         2.2           0.062    \n",
              "1597 6.3           0.510            0.13         2.3           0.076    \n",
              "1598 5.9           0.645            0.12         2.0           0.075    \n",
              "1599 6.0           0.310            0.47         3.6           0.067    \n",
              "     free.sulfur.dioxide total.sulfur.dioxide density pH   sulphates alcohol\n",
              "1    11                   34                  0.9978  3.51 0.56       9.4   \n",
              "2    25                   67                  0.9968  3.20 0.68       9.8   \n",
              "3    15                   54                  0.9970  3.26 0.65       9.8   \n",
              "4    17                   60                  0.9980  3.16 0.58       9.8   \n",
              "5    11                   34                  0.9978  3.51 0.56       9.4   \n",
              "6    13                   40                  0.9978  3.51 0.56       9.4   \n",
              "7    15                   59                  0.9964  3.30 0.46       9.4   \n",
              "8    15                   21                  0.9946  3.39 0.47      10.0   \n",
              "9     9                   18                  0.9968  3.36 0.57       9.5   \n",
              "10   17                  102                  0.9978  3.35 0.80      10.5   \n",
              "11   15                   65                  0.9959  3.28 0.54       9.2   \n",
              "12   17                  102                  0.9978  3.35 0.80      10.5   \n",
              "13   16                   59                  0.9943  3.58 0.52       9.9   \n",
              "14    9                   29                  0.9974  3.26 1.56       9.1   \n",
              "15   52                  145                  0.9986  3.16 0.88       9.2   \n",
              "16   51                  148                  0.9986  3.17 0.93       9.2   \n",
              "17   35                  103                  0.9969  3.30 0.75      10.5   \n",
              "18   16                   56                  0.9968  3.11 1.28       9.3   \n",
              "19    6                   29                  0.9974  3.38 0.50       9.0   \n",
              "20   17                   56                  0.9969  3.04 1.08       9.2   \n",
              "21   29                   60                  0.9968  3.39 0.53       9.4   \n",
              "101  11                   50                  0.9972  3.40 0.61      10.2   \n",
              "102   8                   22                  0.9959  3.31 0.56      10.4   \n",
              "103  13                   35                  0.9972  3.30 0.59       9.0   \n",
              "104  12                   65                  0.9967  3.29 0.51       9.2   \n",
              "105   5                   36                  0.9960  3.33 0.48       9.4   \n",
              "106  12                   65                  0.9967  3.29 0.51       9.2   \n",
              "107  18                   69                  0.9973  3.08 1.31       9.3   \n",
              "108  15                   64                  0.9969  3.46 0.79       9.3   \n",
              "109  18                   80                  0.9976  3.37 0.80       9.6   \n",
              "⋮    ⋮                   ⋮                    ⋮       ⋮    ⋮         ⋮      \n",
              "1570 15                   34                  0.99396 3.48 0.57      11.5   \n",
              "1571 19                   35                  0.99340 3.37 0.93      12.4   \n",
              "1572 15                   25                  0.99514 3.44 0.65      11.1   \n",
              "1573 35                  104                  0.99632 3.33 0.51       9.5   \n",
              "1574 15                   50                  0.99467 3.58 0.67      12.5   \n",
              "1575 23                   92                  0.99677 3.39 0.48      10.5   \n",
              "1576 12                   20                  0.99474 3.26 0.64      11.8   \n",
              "1577 16                   29                  0.99588 3.30 0.78      10.8   \n",
              "1578 13                   27                  0.99622 3.54 0.60      11.9   \n",
              "1579 13                   20                  0.99540 3.42 0.67      11.3   \n",
              "1580 24                   32                  0.99402 3.54 0.60      11.3   \n",
              "1581  9                   26                  0.99470 3.36 0.60      11.9   \n",
              "1582 24                   32                  0.99402 3.54 0.60      11.3   \n",
              "1583 13                   27                  0.99362 3.57 0.50      11.9   \n",
              "1584 32                   98                  0.99578 3.33 0.62       9.8   \n",
              "1585 24                   34                  0.99484 3.29 0.80      11.6   \n",
              "1586 22                   48                  0.99494 3.30 0.84      11.5   \n",
              "1587 34                   60                  0.99492 3.34 0.85      11.4   \n",
              "1588 18                   28                  0.99483 3.55 0.66      10.9   \n",
              "1589 34                  102                  0.99414 3.27 0.78      12.8   \n",
              "1590 29                   79                  0.99770 3.29 0.54       9.2   \n",
              "1591 26                   35                  0.99314 3.32 0.82      11.6   \n",
              "1592 16                   26                  0.99402 3.67 0.56      11.6   \n",
              "1593 29                   40                  0.99574 3.42 0.75      11.0   \n",
              "1594 28                   38                  0.99651 3.42 0.82       9.5   \n",
              "1595 32                   44                  0.99490 3.45 0.58      10.5   \n",
              "1596 39                   51                  0.99512 3.52 0.76      11.2   \n",
              "1597 29                   40                  0.99574 3.42 0.75      11.0   \n",
              "1598 32                   44                  0.99547 3.57 0.71      10.2   \n",
              "1599 18                   42                  0.99549 3.39 0.66      11.0   \n",
              "     quality\n",
              "1    5      \n",
              "2    5      \n",
              "3    5      \n",
              "4    6      \n",
              "5    5      \n",
              "6    5      \n",
              "7    5      \n",
              "8    7      \n",
              "9    7      \n",
              "10   5      \n",
              "11   5      \n",
              "12   5      \n",
              "13   5      \n",
              "14   5      \n",
              "15   5      \n",
              "16   5      \n",
              "17   7      \n",
              "18   5      \n",
              "19   4      \n",
              "20   6      \n",
              "21   6      \n",
              "101  6      \n",
              "102  6      \n",
              "103  6      \n",
              "104  5      \n",
              "105  5      \n",
              "106  5      \n",
              "107  5      \n",
              "108  5      \n",
              "109  6      \n",
              "⋮    ⋮      \n",
              "1570 6      \n",
              "1571 6      \n",
              "1572 6      \n",
              "1573 5      \n",
              "1574 6      \n",
              "1575 6      \n",
              "1576 6      \n",
              "1577 6      \n",
              "1578 6      \n",
              "1579 6      \n",
              "1580 5      \n",
              "1581 6      \n",
              "1582 5      \n",
              "1583 5      \n",
              "1584 5      \n",
              "1585 7      \n",
              "1586 6      \n",
              "1587 6      \n",
              "1588 6      \n",
              "1589 6      \n",
              "1590 5      \n",
              "1591 6      \n",
              "1592 6      \n",
              "1593 6      \n",
              "1594 6      \n",
              "1595 5      \n",
              "1596 6      \n",
              "1597 6      \n",
              "1598 5      \n",
              "1599 6      "
            ]
          },
          "metadata": {
            "tags": []
          },
          "output_type": "display_data"
        }
      ],
      "source": [
        "data3"
      ]
    },
    {
      "cell_type": "code",
      "execution_count": null,
      "metadata": {
        "id": "Z_GZsAjvX9pA"
      },
      "outputs": [],
      "source": [
        "# Connect to Google Drive"
      ]
    },
    {
      "cell_type": "code",
      "execution_count": null,
      "metadata": {
        "id": "CYfXu0wpiZJJ"
      },
      "outputs": [],
      "source": [
        "#suppressMessages(install.packages(\"tidyverse\")) \n",
        "#suppressPackageStartupMessages(library(tidyverse))\n",
        "#suppressMessages(install.packages(\"googleAnalyticsR\")) \n",
        "#suppressPackageStartupMessages(library(googleAnalyticsR))\n",
        "#suppressMessages(install.packages(\"googleAuthR\")) \n",
        "#suppressPackageStartupMessages(library(googleAuthR))\n",
        "# starts auth process with defaults\n",
        "#gar_auth(email = 'antonio.guerreiro@unifesp.br')\n",
        "#>The googleAuthR package is requesting access to your Google account. Select a \n",
        "#> pre-authorised account or enter '0' to obtain a new token. Press Esc/Ctrl + C to abort.\n",
        "\n",
        "#> 1: mark@work.com\n",
        "#> 2: home@home.com"
      ]
    },
    {
      "cell_type": "code",
      "execution_count": null,
      "metadata": {
        "id": "XQFRMHWUm8Hl"
      },
      "outputs": [],
      "source": [
        "# googledrive::\n",
        "#drive_auth(email = \"antonio.guerreiro@unifesp.br\")"
      ]
    },
    {
      "cell_type": "markdown",
      "metadata": {
        "id": "rNp1ZL0qqZYh"
      },
      "source": [
        "Tutorial: How to read Google sheet (or Google Drive) on R\n",
        "\n",
        "https://www.youtube.com/watch?v=NyWQWtKAKHU&t=3s"
      ]
    },
    {
      "cell_type": "code",
      "execution_count": null,
      "metadata": {
        "id": "9tYR-PUXhQot"
      },
      "outputs": [],
      "source": [
        "myurl <- \"https://docs.google.com/spreadsheets/d/e/2PACX-1vSXi7aFqra7rA2U19a4w-Oxiz29MsHuK8WS6p_lAc2tNbFL9cXGrUA64OcjiWAKyHX9P4CmGVDG2hqK/pub?gid=0&single=true&output=csv\""
      ]
    },
    {
      "cell_type": "code",
      "execution_count": null,
      "metadata": {
        "id": "WW0cT2d-h0tO"
      },
      "outputs": [],
      "source": [
        "dataset <- read.csv(myurl, header = T)"
      ]
    },
    {
      "cell_type": "code",
      "execution_count": null,
      "metadata": {
        "colab": {
          "base_uri": "https://localhost:8080/",
          "height": 393
        },
        "id": "XStCEJ3lqScU",
        "outputId": "25eb71e9-6df0-470b-b81c-0381468b2122"
      },
      "outputs": [
        {
          "data": {
            "text/html": [
              "<table class=\"dataframe\">\n",
              "<caption>A data.frame: 9 × 2</caption>\n",
              "<thead>\n",
              "\t<tr><th scope=col>A</th><th scope=col>B</th></tr>\n",
              "\t<tr><th scope=col>&lt;int&gt;</th><th scope=col>&lt;int&gt;</th></tr>\n",
              "</thead>\n",
              "<tbody>\n",
              "\t<tr><td>1</td><td>9</td></tr>\n",
              "\t<tr><td>2</td><td>8</td></tr>\n",
              "\t<tr><td>3</td><td>7</td></tr>\n",
              "\t<tr><td>4</td><td>6</td></tr>\n",
              "\t<tr><td>5</td><td>5</td></tr>\n",
              "\t<tr><td>6</td><td>4</td></tr>\n",
              "\t<tr><td>7</td><td>3</td></tr>\n",
              "\t<tr><td>8</td><td>2</td></tr>\n",
              "\t<tr><td>9</td><td>1</td></tr>\n",
              "</tbody>\n",
              "</table>\n"
            ],
            "text/latex": "A data.frame: 9 × 2\n\\begin{tabular}{ll}\n A & B\\\\\n <int> & <int>\\\\\n\\hline\n\t 1 & 9\\\\\n\t 2 & 8\\\\\n\t 3 & 7\\\\\n\t 4 & 6\\\\\n\t 5 & 5\\\\\n\t 6 & 4\\\\\n\t 7 & 3\\\\\n\t 8 & 2\\\\\n\t 9 & 1\\\\\n\\end{tabular}\n",
            "text/markdown": "\nA data.frame: 9 × 2\n\n| A &lt;int&gt; | B &lt;int&gt; |\n|---|---|\n| 1 | 9 |\n| 2 | 8 |\n| 3 | 7 |\n| 4 | 6 |\n| 5 | 5 |\n| 6 | 4 |\n| 7 | 3 |\n| 8 | 2 |\n| 9 | 1 |\n\n",
            "text/plain": [
              "  A B\n",
              "1 1 9\n",
              "2 2 8\n",
              "3 3 7\n",
              "4 4 6\n",
              "5 5 5\n",
              "6 6 4\n",
              "7 7 3\n",
              "8 8 2\n",
              "9 9 1"
            ]
          },
          "metadata": {
            "tags": []
          },
          "output_type": "display_data"
        }
      ],
      "source": [
        "dataset"
      ]
    },
    {
      "cell_type": "markdown",
      "metadata": {
        "id": "AOOsIIouuLOo"
      },
      "source": [
        "Reading and Importing Excel Files into R\n",
        "\n",
        "https://bityli.com/VJYHS"
      ]
    }
  ],
  "metadata": {
    "colab": {
      "provenance": [],
      "authorship_tag": "ABX9TyMA/VRInGrAtBjWuWDwmynp",
      "include_colab_link": true
    },
    "kernelspec": {
      "display_name": "R",
      "name": "ir"
    },
    "language_info": {
      "name": "R"
    }
  },
  "nbformat": 4,
  "nbformat_minor": 0
}
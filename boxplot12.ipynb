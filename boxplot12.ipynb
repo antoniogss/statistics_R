{
  "nbformat": 4,
  "nbformat_minor": 0,
  "metadata": {
    "colab": {
      "provenance": [],
      "authorship_tag": "ABX9TyN+fM7akdY8uSFwKsVqb+oY",
      "include_colab_link": true
    },
    "kernelspec": {
      "name": "ir",
      "display_name": "R"
    },
    "language_info": {
      "name": "R"
    }
  },
  "cells": [
    {
      "cell_type": "markdown",
      "metadata": {
        "id": "view-in-github",
        "colab_type": "text"
      },
      "source": [
        "<a href=\"https://colab.research.google.com/github/antoniogss/statistics_R/blob/main/boxplot12.ipynb\" target=\"_parent\"><img src=\"https://colab.research.google.com/assets/colab-badge.svg\" alt=\"Open In Colab\"/></a>"
      ]
    },
    {
      "cell_type": "code",
      "metadata": {
        "id": "8wxOd-ISivHM"
      },
      "source": [
        "suppressMessages(install.packages(\"nortest\")) # Disable messages upon installing a package\n",
        "suppressPackageStartupMessages(library(nortest)) # Disable messages upon loading a package\n",
        "\n",
        "suppressMessages(install.packages(\"fields\"))\n",
        "suppressPackageStartupMessages(library(fields))\n",
        "\n",
        "suppressMessages(install.packages(\"Amelia\"))\n",
        "suppressPackageStartupMessages(library(Amelia))\n",
        "\n",
        "suppressMessages(install.packages(\"tidyverse\"))\n",
        "suppressPackageStartupMessages(library(tidyverse))\n",
        "\n",
        "suppressMessages(install.packages(\"openxlsx\")) # Import Excel (.xlsx) file in R\n",
        "suppressPackageStartupMessages(library(openxlsx))\n",
        "\n",
        "suppressMessages(install.packages(\"readxl\")) # Import Excel (.xlsx) file in R\n",
        "suppressPackageStartupMessages(library(readxl))"
      ],
      "execution_count": null,
      "outputs": []
    },
    {
      "cell_type": "code",
      "metadata": {
        "id": "PCoatTuIpVRG"
      },
      "source": [
        "arq <- \"/content/boxplotExcel.xlsx\""
      ],
      "execution_count": null,
      "outputs": []
    },
    {
      "cell_type": "code",
      "metadata": {
        "id": "E60TCL5bj23T"
      },
      "source": [
        "data <- read.xlsx(arq, \n",
        "                  sheet = \"dados\", \n",
        "                  startRow = 1, \n",
        "                  colNames = T,\n",
        "                  detectDates = T) #openxlsx"
      ],
      "execution_count": null,
      "outputs": []
    },
    {
      "cell_type": "code",
      "metadata": {
        "colab": {
          "base_uri": "https://localhost:8080/",
          "height": 407
        },
        "id": "yWqgQDi8lnwL",
        "outputId": "73c4d4e8-1fee-46cb-a407-053f02d53d31"
      },
      "source": [
        "data"
      ],
      "execution_count": null,
      "outputs": [
        {
          "output_type": "display_data",
          "data": {
            "text/plain": [
              "   Peso Comprimento\n",
              "1  23   104        \n",
              "2  22   107        \n",
              "3  21   103        \n",
              "4  21   105        \n",
              "5  17   100        \n",
              "6  28   104        \n",
              "7  19   108        \n",
              "8  14    91        \n",
              "9  19   102        \n",
              "10 19    99        "
            ],
            "text/latex": "A data.frame: 10 × 2\n\\begin{tabular}{r|ll}\n  & Peso & Comprimento\\\\\n  & <dbl> & <dbl>\\\\\n\\hline\n\t1 & 23 & 104\\\\\n\t2 & 22 & 107\\\\\n\t3 & 21 & 103\\\\\n\t4 & 21 & 105\\\\\n\t5 & 17 & 100\\\\\n\t6 & 28 & 104\\\\\n\t7 & 19 & 108\\\\\n\t8 & 14 &  91\\\\\n\t9 & 19 & 102\\\\\n\t10 & 19 &  99\\\\\n\\end{tabular}\n",
            "text/markdown": "\nA data.frame: 10 × 2\n\n| <!--/--> | Peso &lt;dbl&gt; | Comprimento &lt;dbl&gt; |\n|---|---|---|\n| 1 | 23 | 104 |\n| 2 | 22 | 107 |\n| 3 | 21 | 103 |\n| 4 | 21 | 105 |\n| 5 | 17 | 100 |\n| 6 | 28 | 104 |\n| 7 | 19 | 108 |\n| 8 | 14 |  91 |\n| 9 | 19 | 102 |\n| 10 | 19 |  99 |\n\n",
            "text/html": [
              "<table class=\"dataframe\">\n",
              "<caption>A data.frame: 10 × 2</caption>\n",
              "<thead>\n",
              "\t<tr><th></th><th scope=col>Peso</th><th scope=col>Comprimento</th></tr>\n",
              "\t<tr><th></th><th scope=col>&lt;dbl&gt;</th><th scope=col>&lt;dbl&gt;</th></tr>\n",
              "</thead>\n",
              "<tbody>\n",
              "\t<tr><th scope=row>1</th><td>23</td><td>104</td></tr>\n",
              "\t<tr><th scope=row>2</th><td>22</td><td>107</td></tr>\n",
              "\t<tr><th scope=row>3</th><td>21</td><td>103</td></tr>\n",
              "\t<tr><th scope=row>4</th><td>21</td><td>105</td></tr>\n",
              "\t<tr><th scope=row>5</th><td>17</td><td>100</td></tr>\n",
              "\t<tr><th scope=row>6</th><td>28</td><td>104</td></tr>\n",
              "\t<tr><th scope=row>7</th><td>19</td><td>108</td></tr>\n",
              "\t<tr><th scope=row>8</th><td>14</td><td> 91</td></tr>\n",
              "\t<tr><th scope=row>9</th><td>19</td><td>102</td></tr>\n",
              "\t<tr><th scope=row>10</th><td>19</td><td> 99</td></tr>\n",
              "</tbody>\n",
              "</table>\n"
            ]
          },
          "metadata": {
            "tags": []
          }
        }
      ]
    },
    {
      "cell_type": "code",
      "metadata": {
        "colab": {
          "base_uri": "https://localhost:8080/",
          "height": 34
        },
        "id": "nG9W6z8ZmdPz",
        "outputId": "11972796-3e54-4078-c848-96ffbb168f73"
      },
      "source": [
        "# Peso\n",
        "quantile(data[,1],\n",
        "         probs = c(0, 0.25, 0.5, 0.75, 1))"
      ],
      "execution_count": null,
      "outputs": [
        {
          "output_type": "display_data",
          "data": {
            "text/plain": [
              "   0%   25%   50%   75%  100% \n",
              "14.00 19.00 20.00 21.75 28.00 "
            ],
            "text/latex": "\\begin{description*}\n\\item[0\\textbackslash{}\\%] 14\n\\item[25\\textbackslash{}\\%] 19\n\\item[50\\textbackslash{}\\%] 20\n\\item[75\\textbackslash{}\\%] 21.75\n\\item[100\\textbackslash{}\\%] 28\n\\end{description*}\n",
            "text/markdown": "0%\n:   1425%\n:   1950%\n:   2075%\n:   21.75100%\n:   28\n\n",
            "text/html": [
              "<style>\n",
              ".dl-inline {width: auto; margin:0; padding: 0}\n",
              ".dl-inline>dt, .dl-inline>dd {float: none; width: auto; display: inline-block}\n",
              ".dl-inline>dt::after {content: \":\\0020\"; padding-right: .5ex}\n",
              ".dl-inline>dt:not(:first-of-type) {padding-left: .5ex}\n",
              "</style><dl class=dl-inline><dt>0%</dt><dd>14</dd><dt>25%</dt><dd>19</dd><dt>50%</dt><dd>20</dd><dt>75%</dt><dd>21.75</dd><dt>100%</dt><dd>28</dd></dl>\n"
            ]
          },
          "metadata": {
            "tags": []
          }
        }
      ]
    },
    {
      "cell_type": "code",
      "metadata": {
        "colab": {
          "base_uri": "https://localhost:8080/",
          "height": 437
        },
        "id": "dJqoERvslwKJ",
        "outputId": "be6ebfad-8399-4dc0-86ee-31b844b8f5ed"
      },
      "source": [
        "# Peso\n",
        "boxplot(data[,1],\n",
        "          main=\"Boxplot\",\n",
        "          ylab=\"Peso\",\n",
        "          ylim=c(min(data[,1]),\n",
        "                 max(data[,1])),\n",
        "          las=1)"
      ],
      "execution_count": null,
      "outputs": [
        {
          "output_type": "display_data",
          "data": {
            "image/png": "[encoded data removed]",
            "text/plain": [
              "Plot with title “Boxplot”"
            ]
          },
          "metadata": {
            "tags": [],
            "image/png": {
              "width": 420,
              "height": 420
            }
          }
        }
      ]
    },
    {
      "cell_type": "code",
      "metadata": {
        "colab": {
          "base_uri": "https://localhost:8080/",
          "height": 34
        },
        "id": "YbaQWtKvpMVu",
        "outputId": "a26d215a-2c90-480f-c9b7-68d8d695ebe7"
      },
      "source": [
        "# Comprimento\n",
        "quantile(data[,2],\n",
        "         probs = c(0, 0.25, 0.5, 0.75, 1))"
      ],
      "execution_count": null,
      "outputs": [
        {
          "output_type": "display_data",
          "data": {
            "text/plain": [
              "    0%    25%    50%    75%   100% \n",
              " 91.00 100.50 103.50 104.75 108.00 "
            ],
            "text/latex": "\\begin{description*}\n\\item[0\\textbackslash{}\\%] 91\n\\item[25\\textbackslash{}\\%] 100.5\n\\item[50\\textbackslash{}\\%] 103.5\n\\item[75\\textbackslash{}\\%] 104.75\n\\item[100\\textbackslash{}\\%] 108\n\\end{description*}\n",
            "text/markdown": "0%\n:   9125%\n:   100.550%\n:   103.575%\n:   104.75100%\n:   108\n\n",
            "text/html": [
              "<style>\n",
              ".dl-inline {width: auto; margin:0; padding: 0}\n",
              ".dl-inline>dt, .dl-inline>dd {float: none; width: auto; display: inline-block}\n",
              ".dl-inline>dt::after {content: \":\\0020\"; padding-right: .5ex}\n",
              ".dl-inline>dt:not(:first-of-type) {padding-left: .5ex}\n",
              "</style><dl class=dl-inline><dt>0%</dt><dd>91</dd><dt>25%</dt><dd>100.5</dd><dt>50%</dt><dd>103.5</dd><dt>75%</dt><dd>104.75</dd><dt>100%</dt><dd>108</dd></dl>\n"
            ]
          },
          "metadata": {
            "tags": []
          }
        }
      ]
    },
    {
      "cell_type": "code",
      "metadata": {
        "colab": {
          "base_uri": "https://localhost:8080/",
          "height": 437
        },
        "id": "lfYlJ6z9uzGK",
        "outputId": "899f30c9-ac74-481a-c887-1094013ea0b6"
      },
      "source": [
        "# Comprimento\n",
        "boxplot(data[,2],\n",
        "          main=\"Boxplot\",\n",
        "          ylab=\"Comprimento\",\n",
        "          ylim=c(min(data[,2]),\n",
        "                 max(data[,2])),\n",
        "          las=1)"
      ],
      "execution_count": null,
      "outputs": [
        {
          "output_type": "display_data",
          "data": {
            "image/png": "[encoded data removed]",
            "text/plain": [
              "Plot with title “Boxplot”"
            ]
          },
          "metadata": {
            "tags": [],
            "image/png": {
              "width": 420,
              "height": 420
            }
          }
        }
      ]
    },
    {
      "cell_type": "code",
      "metadata": {
        "id": "5Nt3R14fvS_j"
      },
      "source": [],
      "execution_count": null,
      "outputs": []
    }
  ]
}
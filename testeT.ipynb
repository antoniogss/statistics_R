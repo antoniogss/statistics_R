{
  "nbformat": 4,
  "nbformat_minor": 0,
  "metadata": {
    "colab": {
      "provenance": [],
      "authorship_tag": "ABX9TyNFDk0sJjxGniT8sEnH/jyI",
      "include_colab_link": true
    },
    "kernelspec": {
      "name": "ir",
      "display_name": "R"
    },
    "language_info": {
      "name": "R"
    }
  },
  "cells": [
    {
      "cell_type": "markdown",
      "metadata": {
        "id": "view-in-github",
        "colab_type": "text"
      },
      "source": [
        "<a href=\"https://colab.research.google.com/github/antoniogss/statistics_R/blob/main/testeT.ipynb\" target=\"_parent\"><img src=\"https://colab.research.google.com/assets/colab-badge.svg\" alt=\"Open In Colab\"/></a>"
      ]
    },
    {
      "cell_type": "code",
      "metadata": {
        "id": "v-YMNYvmrQwK"
      },
      "source": [
        "# ipak function: install and load multiple R packages.\n",
        "# check to see if packages are installed. Install them if they are not, then load them into the R session.\n",
        "\n",
        "ipak = function(pkg){\n",
        "new.pkg = pkg[!(pkg %in% installed.packages()[, \"Package\"])]\n",
        "if (length(new.pkg)) \n",
        "    install.packages(new.pkg, dependencies = T)\n",
        "sapply(pkg, require, character.only = T)\n",
        "}\n",
        "\n",
        "# usage\n",
        "packages = c(\n",
        "          \"nortest\",\n",
        "          \"fields\",\n",
        "          \"Amelia\",\n",
        "          \"tidyverse\",\n",
        "          \"dplyr\"\n",
        "        )\n",
        "\n",
        "invisible(\n",
        "          ipak(packages)  \n",
        "        )"
      ],
      "execution_count": null,
      "outputs": []
    },
    {
      "cell_type": "markdown",
      "metadata": {
        "id": "_bVUy7dzEQ8e"
      },
      "source": [
        "## Tutorial\n",
        "\n",
        "https://www.youtube.com/watch?v=4iJ6SPbOC84"
      ]
    },
    {
      "cell_type": "code",
      "metadata": {
        "id": "GZiJXgJ-AgQS",
        "colab": {
          "base_uri": "https://localhost:8080/",
          "height": 34
        },
        "outputId": "3c6af832-629a-4d3a-941c-6d429d5bc26f"
      },
      "source": [
        "data = read.csv(\n",
        "                'banco_de_dados.csv', \n",
        "                sep = \";\", \n",
        "                dec = \",\", \n",
        "                header = T,\n",
        "                fileEncoding = \"Latin1\", # You can always use the \"Latin1\" encoding while reading the csv\n",
        "                check.names = F # This will read the column names as-is and won't return any errors\n",
        "                                # I am adding check.names = F to avoid replacing spaces by dots within your header\n",
        "              )\n",
        "# To remove/replace troublesome characters in column names, use this\n",
        "iconv(names(data), to = \"ASCII\", sub = \"\") "
      ],
      "execution_count": null,
      "outputs": [
        {
          "output_type": "display_data",
          "data": {
            "text/plain": [
              "[1] \"Sujeito\"          \"Genero\"           \"Grau_de_Instruao\" \"N_Filhos\"        \n",
              "[5] \"Idade\"            \"Altura\"           \"Salario\"         "
            ],
            "text/latex": "\\begin{enumerate*}\n\\item 'Sujeito'\n\\item 'Genero'\n\\item 'Grau\\_de\\_Instruao'\n\\item 'N\\_Filhos'\n\\item 'Idade'\n\\item 'Altura'\n\\item 'Salario'\n\\end{enumerate*}\n",
            "text/markdown": "1. 'Sujeito'\n2. 'Genero'\n3. 'Grau_de_Instruao'\n4. 'N_Filhos'\n5. 'Idade'\n6. 'Altura'\n7. 'Salario'\n\n\n",
            "text/html": [
              "<style>\n",
              ".list-inline {list-style: none; margin:0; padding: 0}\n",
              ".list-inline>li {display: inline-block}\n",
              ".list-inline>li:not(:last-child)::after {content: \"\\00b7\"; padding: 0 .5ex}\n",
              "</style>\n",
              "<ol class=list-inline><li>'Sujeito'</li><li>'Genero'</li><li>'Grau_de_Instruao'</li><li>'N_Filhos'</li><li>'Idade'</li><li>'Altura'</li><li>'Salario'</li></ol>\n"
            ]
          },
          "metadata": {
            "tags": []
          }
        }
      ]
    },
    {
      "cell_type": "code",
      "metadata": {
        "colab": {
          "base_uri": "https://localhost:8080/",
          "height": 283
        },
        "id": "9Uc0vlVYAiOT",
        "outputId": "1adfe240-b390-4bc2-9382-8e77522bb875"
      },
      "source": [
        "head(data)"
      ],
      "execution_count": null,
      "outputs": [
        {
          "output_type": "display_data",
          "data": {
            "text/plain": [
              "  Sujeito Genero Grau_de_Instruçao N_Filhos Idade Altura Salario\n",
              "1 1       M      Superior          1        31    160    4.10   \n",
              "2 2       F      Superior          0        25    160    2.65   \n",
              "3 3       M      Superior          0        33    157    4.70   \n",
              "4 4       M      Ens Fundamental   0        20    163    1.45   \n",
              "5 5       F      Ensino Médio      0        23    163    1.85   \n",
              "6 6       F      Superior          2        37    155    2.20   "
            ],
            "text/latex": "A data.frame: 6 × 7\n\\begin{tabular}{r|lllllll}\n  & Sujeito & Genero & Grau\\_de\\_Instruçao & N\\_Filhos & Idade & Altura & Salario\\\\\n  & <int> & <chr> & <chr> & <int> & <int> & <int> & <dbl>\\\\\n\\hline\n\t1 & 1 & M & Superior        & 1 & 31 & 160 & 4.10\\\\\n\t2 & 2 & F & Superior        & 0 & 25 & 160 & 2.65\\\\\n\t3 & 3 & M & Superior        & 0 & 33 & 157 & 4.70\\\\\n\t4 & 4 & M & Ens Fundamental & 0 & 20 & 163 & 1.45\\\\\n\t5 & 5 & F & Ensino Médio    & 0 & 23 & 163 & 1.85\\\\\n\t6 & 6 & F & Superior        & 2 & 37 & 155 & 2.20\\\\\n\\end{tabular}\n",
            "text/markdown": "\nA data.frame: 6 × 7\n\n| <!--/--> | Sujeito &lt;int&gt; | Genero &lt;chr&gt; | Grau_de_Instruçao &lt;chr&gt; | N_Filhos &lt;int&gt; | Idade &lt;int&gt; | Altura &lt;int&gt; | Salario &lt;dbl&gt; |\n|---|---|---|---|---|---|---|---|\n| 1 | 1 | M | Superior        | 1 | 31 | 160 | 4.10 |\n| 2 | 2 | F | Superior        | 0 | 25 | 160 | 2.65 |\n| 3 | 3 | M | Superior        | 0 | 33 | 157 | 4.70 |\n| 4 | 4 | M | Ens Fundamental | 0 | 20 | 163 | 1.45 |\n| 5 | 5 | F | Ensino Médio    | 0 | 23 | 163 | 1.85 |\n| 6 | 6 | F | Superior        | 2 | 37 | 155 | 2.20 |\n\n",
            "text/html": [
              "<table class=\"dataframe\">\n",
              "<caption>A data.frame: 6 × 7</caption>\n",
              "<thead>\n",
              "\t<tr><th></th><th scope=col>Sujeito</th><th scope=col>Genero</th><th scope=col>Grau_de_Instruçao</th><th scope=col>N_Filhos</th><th scope=col>Idade</th><th scope=col>Altura</th><th scope=col>Salario</th></tr>\n",
              "\t<tr><th></th><th scope=col>&lt;int&gt;</th><th scope=col>&lt;chr&gt;</th><th scope=col>&lt;chr&gt;</th><th scope=col>&lt;int&gt;</th><th scope=col>&lt;int&gt;</th><th scope=col>&lt;int&gt;</th><th scope=col>&lt;dbl&gt;</th></tr>\n",
              "</thead>\n",
              "<tbody>\n",
              "\t<tr><th scope=row>1</th><td>1</td><td>M</td><td>Superior       </td><td>1</td><td>31</td><td>160</td><td>4.10</td></tr>\n",
              "\t<tr><th scope=row>2</th><td>2</td><td>F</td><td>Superior       </td><td>0</td><td>25</td><td>160</td><td>2.65</td></tr>\n",
              "\t<tr><th scope=row>3</th><td>3</td><td>M</td><td>Superior       </td><td>0</td><td>33</td><td>157</td><td>4.70</td></tr>\n",
              "\t<tr><th scope=row>4</th><td>4</td><td>M</td><td>Ens Fundamental</td><td>0</td><td>20</td><td>163</td><td>1.45</td></tr>\n",
              "\t<tr><th scope=row>5</th><td>5</td><td>F</td><td>Ensino Médio   </td><td>0</td><td>23</td><td>163</td><td>1.85</td></tr>\n",
              "\t<tr><th scope=row>6</th><td>6</td><td>F</td><td>Superior       </td><td>2</td><td>37</td><td>155</td><td>2.20</td></tr>\n",
              "</tbody>\n",
              "</table>\n"
            ]
          },
          "metadata": {
            "tags": []
          }
        }
      ]
    },
    {
      "cell_type": "code",
      "metadata": {
        "colab": {
          "base_uri": "https://localhost:8080/"
        },
        "id": "8kZ23I4CCmsy",
        "outputId": "085c05a8-840f-4a4c-f48c-a48fd3af30be"
      },
      "source": [
        "glimpse(data)"
      ],
      "execution_count": null,
      "outputs": [
        {
          "output_type": "stream",
          "text": [
            "Rows: 30\n",
            "Columns: 7\n",
            "$ Sujeito           \u001b[3m\u001b[90m<int>\u001b[39m\u001b[23m 1, 2, 3, 4, 5, 6, 7, 8, 9, 10, 11, 12, 13, 14, 15, 1…\n",
            "$ Genero            \u001b[3m\u001b[90m<chr>\u001b[39m\u001b[23m \"M\", \"F\", \"M\", \"M\", \"F\", \"F\", \"M\", \"M\", \"M\", \"M\", \"F…\n",
            "$ Grau_de_Instruçao \u001b[3m\u001b[90m<chr>\u001b[39m\u001b[23m \"Superior\", \"Superior\", \"Superior\", \"Ens Fundamental…\n",
            "$ N_Filhos          \u001b[3m\u001b[90m<int>\u001b[39m\u001b[23m 1, 0, 0, 0, 0, 2, 0, 0, 1, 2, 0, 3, 0, 0, 1, 1, 0, 0…\n",
            "$ Idade             \u001b[3m\u001b[90m<int>\u001b[39m\u001b[23m 31, 25, 33, 20, 23, 37, 38, 37, 34, 40, 41, 46, 26, …\n",
            "$ Altura            \u001b[3m\u001b[90m<int>\u001b[39m\u001b[23m 160, 160, 157, 163, 163, 155, 165, 168, 163, 170, 17…\n",
            "$ Salario           \u001b[3m\u001b[90m<dbl>\u001b[39m\u001b[23m 4.10, 2.65, 4.70, 1.45, 1.85, 2.20, 2.35, 2.70, 2.90…\n"
          ],
          "name": "stdout"
        }
      ]
    },
    {
      "cell_type": "markdown",
      "metadata": {
        "id": "CHbf-DaP5VWy"
      },
      "source": [
        "##Verificação da Normalidade dos dados"
      ]
    },
    {
      "cell_type": "code",
      "metadata": {
        "colab": {
          "base_uri": "https://localhost:8080/",
          "height": 102
        },
        "id": "SpMj5pSV25et",
        "outputId": "f91f3e06-a220-4fff-9f16-884628b863aa"
      },
      "source": [
        "shapiro.test(data$Altura)"
      ],
      "execution_count": null,
      "outputs": [
        {
          "output_type": "display_data",
          "data": {
            "text/plain": [
              "\n",
              "\tShapiro-Wilk normality test\n",
              "\n",
              "data:  data$Altura\n",
              "W = 0.95384, p-value = 0.214\n"
            ]
          },
          "metadata": {
            "tags": []
          }
        }
      ]
    },
    {
      "cell_type": "markdown",
      "metadata": {
        "id": "ozf3kH3l7XPO"
      },
      "source": [
        "Distribuição Normal\n",
        "\n",
        "p-value > 0.05 "
      ]
    },
    {
      "cell_type": "markdown",
      "metadata": {
        "id": "a3zUQwoN7zkM"
      },
      "source": [
        "## Realização do teste T para uma amostra "
      ]
    },
    {
      "cell_type": "code",
      "metadata": {
        "colab": {
          "base_uri": "https://localhost:8080/",
          "height": 204
        },
        "id": "3iBMe2f25rdq",
        "outputId": "e1e0062f-9f24-4b48-c680-6566f41345d4"
      },
      "source": [
        "t.test(data$Altura, mu = 167) # mu é um valor de referência, spr atribuir esta variável assim\n",
        "\n",
        "# Observação:\n",
        "  # O teste bicaudal é o default; caso deseje unicaudal, necessário incluir:\n",
        "    # alternative = \"greater\" ou alternative = \"less\"\n",
        "  # Exemplo: t.test(dados$Altura, mu = 167, alternative = \"greater\")\n",
        "    # Nesse caso, o teste verificará se é a média amostral é maior que a média testada"
      ],
      "execution_count": null,
      "outputs": [
        {
          "output_type": "display_data",
          "data": {
            "text/plain": [
              "\n",
              "\tOne Sample t-test\n",
              "\n",
              "data:  data$Altura\n",
              "t = 0.70196, df = 29, p-value = 0.4883\n",
              "alternative hypothesis: true mean is not equal to 167\n",
              "95 percent confidence interval:\n",
              " 164.2572 172.6095\n",
              "sample estimates:\n",
              "mean of x \n",
              " 168.4333 \n"
            ]
          },
          "metadata": {
            "tags": []
          }
        }
      ]
    },
    {
      "cell_type": "markdown",
      "metadata": {
        "id": "Oa3mP3lR9OES"
      },
      "source": [
        "df: degrees of freedom\n",
        "\n",
        "\n",
        "---\n",
        "\n",
        "\n",
        "\n",
        "---\n",
        "\n",
        "\n",
        "H0: média da amostra = valor de referência: p-value > 0.05\n",
        "\n",
        "\n",
        "---\n",
        "\n",
        "\n",
        "\n",
        "---\n",
        "\n",
        "\n",
        "H1: média da amostra != valor de referência: p-value <= 0.05"
      ]
    },
    {
      "cell_type": "markdown",
      "metadata": {
        "id": "VeeB65iNBytV"
      },
      "source": [
        "## Resultado da Análise\n",
        "\n",
        "O teste-T para uma amostra evidenciou que a média de altura da amostra (168,43 cm) não é diferente da média de altura nacional (167 cm).\n",
        "\n",
        "t(29) = 0.702 ; p = 0.488"
      ]
    },
    {
      "cell_type": "markdown",
      "metadata": {
        "id": "8CcpBbWVDfrX"
      },
      "source": [
        "## Visualização da distribuição dos dados"
      ]
    },
    {
      "cell_type": "code",
      "metadata": {
        "colab": {
          "base_uri": "https://localhost:8080/",
          "height": 437
        },
        "id": "0N1fhjer8UzF",
        "outputId": "51e40db7-cd99-49d3-9390-9ebb197c57fe"
      },
      "source": [
        "boxplot(data$Altura, ylab = \"Altura (cm)\")"
      ],
      "execution_count": null,
      "outputs": [
        {
          "output_type": "display_data",
          "data": {
            "image/png": "[encoded data removed]",
            "text/plain": [
              "plot without title"
            ]
          },
          "metadata": {
            "tags": [],
            "image/png": {
              "width": 420,
              "height": 420
            }
          }
        }
      ]
    },
    {
      "cell_type": "markdown",
      "metadata": {
        "id": "QRYKJXGYE3IQ"
      },
      "source": [
        "## Teste-T para duas amostras independentes no R"
      ]
    },
    {
      "cell_type": "markdown",
      "metadata": {
        "id": "gOXY-F5GFQ8L"
      },
      "source": [
        "O banco de dados \"banco_de_dados1.csv\" contém informações de 32 alunos da rede pública e privada. Verifique se há efeito da posição que o aluno ocupa na sala (se \"Frente\" ou \"Fundo\") sobre suas notas de Biologia, Física e História. Descreva os resultados de forma apropriada.\n",
        "\n",
        "Comparação entre dois grupos independentes (\"Frente\" ou \"Fundo\")!\n",
        "\n",
        "A nota é a variável dependente e numérica, pois esta sofrerá o efeito do grupo!"
      ]
    },
    {
      "cell_type": "code",
      "metadata": {
        "colab": {
          "base_uri": "https://localhost:8080/",
          "height": 34
        },
        "id": "oTqaFHe7Dw5Y",
        "outputId": "6dd139d9-695b-4d8a-9a88-c93deb42f396"
      },
      "source": [
        "data1 = read.csv(\n",
        "                  'banco_de_dados1.csv', \n",
        "                  sep = \";\", \n",
        "                  dec = \",\", \n",
        "                  header = T,\n",
        "                  fileEncoding = \"Latin1\", \n",
        "                  check.names = F                                \n",
        "              )\n",
        "\n",
        "iconv(names(data), to = \"ASCII\", sub = \"\") "
      ],
      "execution_count": null,
      "outputs": [
        {
          "output_type": "display_data",
          "data": {
            "text/plain": [
              "[1] \"Sujeito\"          \"Genero\"           \"Grau_de_Instruao\" \"N_Filhos\"        \n",
              "[5] \"Idade\"            \"Altura\"           \"Salario\"         "
            ],
            "text/latex": "\\begin{enumerate*}\n\\item 'Sujeito'\n\\item 'Genero'\n\\item 'Grau\\_de\\_Instruao'\n\\item 'N\\_Filhos'\n\\item 'Idade'\n\\item 'Altura'\n\\item 'Salario'\n\\end{enumerate*}\n",
            "text/markdown": "1. 'Sujeito'\n2. 'Genero'\n3. 'Grau_de_Instruao'\n4. 'N_Filhos'\n5. 'Idade'\n6. 'Altura'\n7. 'Salario'\n\n\n",
            "text/html": [
              "<style>\n",
              ".list-inline {list-style: none; margin:0; padding: 0}\n",
              ".list-inline>li {display: inline-block}\n",
              ".list-inline>li:not(:last-child)::after {content: \"\\00b7\"; padding: 0 .5ex}\n",
              "</style>\n",
              "<ol class=list-inline><li>'Sujeito'</li><li>'Genero'</li><li>'Grau_de_Instruao'</li><li>'N_Filhos'</li><li>'Idade'</li><li>'Altura'</li><li>'Salario'</li></ol>\n"
            ]
          },
          "metadata": {
            "tags": []
          }
        }
      ]
    },
    {
      "cell_type": "markdown",
      "metadata": {
        "id": "XSSNdsqHHyhu"
      },
      "source": [
        "##Verificação da Normalidade dos dados\n",
        "\n",
        "Continuação no Jupyter-notebook!"
      ]
    }
  ]
}